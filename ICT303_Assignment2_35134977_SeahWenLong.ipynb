{
  "nbformat": 4,
  "nbformat_minor": 0,
  "metadata": {
    "colab": {
      "provenance": [],
      "gpuType": "T4",
      "toc_visible": true
    },
    "kernelspec": {
      "name": "python3",
      "display_name": "Python 3"
    },
    "language_info": {
      "name": "python"
    },
    "accelerator": "GPU"
  },
  "cells": [
    {
      "cell_type": "markdown",
      "source": [
        "#  **ICT303 - Assignment 2**\n",
        "\n",
        "**Your name: Seah Wen Long**\n",
        "\n",
        "**Student ID: 35134977**\n",
        "\n",
        "**Email: seahwenlong2@gmail.com**\n",
        "\n",
        "\n",
        "\n",
        "\n"
      ],
      "metadata": {
        "id": "HWcRDBXB9eSD"
      }
    },
    {
      "cell_type": "markdown",
      "source": [
        "# **1. Problem Statement**\n",
        "\n",
        "In this assignment, we will be performing **text analysis**, which is the process of automatically extracting and classifying information from textual data to gain insights and understand patterns.\n",
        "\n",
        "Spam detection is one of the common application of text analysis, where the goal is to distinguish between spam (unsolicited messages such as advertisements, scams, or harmful content) and ham (legitimate messages).\n",
        "\n",
        "In this project, we aim to build and evaluate whether a **Long Short-Term Memory (LSTM)** or a **Naive Bayes** model provides the highest accuracy and precision in automatically classify SMS messages as spam or ham."
      ],
      "metadata": {
        "id": "vIwLCALR96Hr"
      }
    },
    {
      "cell_type": "markdown",
      "source": [
        "# **2. Device Set up**"
      ],
      "metadata": {
        "id": "7LW115tF-mUU"
      }
    },
    {
      "cell_type": "markdown",
      "source": [
        "## 2.1. Installing and Importing Libraries\n",
        "\n",
        "We will import and install all the neccessary libraries."
      ],
      "metadata": {
        "id": "hKUqBbi7AWKB"
      }
    },
    {
      "cell_type": "code",
      "source": [
        "!pip install supervision tensorflow torchview"
      ],
      "metadata": {
        "id": "RstowYD5AdyN",
        "colab": {
          "base_uri": "https://localhost:8080/"
        },
        "outputId": "b82b50c8-7417-4270-a862-4ab54b588cde"
      },
      "execution_count": null,
      "outputs": [
        {
          "output_type": "stream",
          "name": "stdout",
          "text": [
            "Collecting supervision\n",
            "  Downloading supervision-0.25.1-py3-none-any.whl.metadata (14 kB)\n",
            "Requirement already satisfied: tensorflow in /usr/local/lib/python3.11/dist-packages (2.18.0)\n",
            "Collecting torchview\n",
            "  Downloading torchview-0.2.7-py3-none-any.whl.metadata (13 kB)\n",
            "Requirement already satisfied: contourpy>=1.0.7 in /usr/local/lib/python3.11/dist-packages (from supervision) (1.3.2)\n",
            "Requirement already satisfied: defusedxml<0.8.0,>=0.7.1 in /usr/local/lib/python3.11/dist-packages (from supervision) (0.7.1)\n",
            "Requirement already satisfied: matplotlib>=3.6.0 in /usr/local/lib/python3.11/dist-packages (from supervision) (3.10.0)\n",
            "Requirement already satisfied: numpy>=1.21.2 in /usr/local/lib/python3.11/dist-packages (from supervision) (2.0.2)\n",
            "Requirement already satisfied: opencv-python>=4.5.5.64 in /usr/local/lib/python3.11/dist-packages (from supervision) (4.11.0.86)\n",
            "Requirement already satisfied: pillow>=9.4 in /usr/local/lib/python3.11/dist-packages (from supervision) (11.2.1)\n",
            "Requirement already satisfied: pyyaml>=5.3 in /usr/local/lib/python3.11/dist-packages (from supervision) (6.0.2)\n",
            "Requirement already satisfied: requests>=2.26.0 in /usr/local/lib/python3.11/dist-packages (from supervision) (2.32.3)\n",
            "Requirement already satisfied: scipy<2.0.0,>=1.10.0 in /usr/local/lib/python3.11/dist-packages (from supervision) (1.15.3)\n",
            "Requirement already satisfied: tqdm>=4.62.3 in /usr/local/lib/python3.11/dist-packages (from supervision) (4.67.1)\n",
            "Requirement already satisfied: absl-py>=1.0.0 in /usr/local/lib/python3.11/dist-packages (from tensorflow) (1.4.0)\n",
            "Requirement already satisfied: astunparse>=1.6.0 in /usr/local/lib/python3.11/dist-packages (from tensorflow) (1.6.3)\n",
            "Requirement already satisfied: flatbuffers>=24.3.25 in /usr/local/lib/python3.11/dist-packages (from tensorflow) (25.2.10)\n",
            "Requirement already satisfied: gast!=0.5.0,!=0.5.1,!=0.5.2,>=0.2.1 in /usr/local/lib/python3.11/dist-packages (from tensorflow) (0.6.0)\n",
            "Requirement already satisfied: google-pasta>=0.1.1 in /usr/local/lib/python3.11/dist-packages (from tensorflow) (0.2.0)\n",
            "Requirement already satisfied: libclang>=13.0.0 in /usr/local/lib/python3.11/dist-packages (from tensorflow) (18.1.1)\n",
            "Requirement already satisfied: opt-einsum>=2.3.2 in /usr/local/lib/python3.11/dist-packages (from tensorflow) (3.4.0)\n",
            "Requirement already satisfied: packaging in /usr/local/lib/python3.11/dist-packages (from tensorflow) (24.2)\n",
            "Requirement already satisfied: protobuf!=4.21.0,!=4.21.1,!=4.21.2,!=4.21.3,!=4.21.4,!=4.21.5,<6.0.0dev,>=3.20.3 in /usr/local/lib/python3.11/dist-packages (from tensorflow) (5.29.5)\n",
            "Requirement already satisfied: setuptools in /usr/local/lib/python3.11/dist-packages (from tensorflow) (75.2.0)\n",
            "Requirement already satisfied: six>=1.12.0 in /usr/local/lib/python3.11/dist-packages (from tensorflow) (1.17.0)\n",
            "Requirement already satisfied: termcolor>=1.1.0 in /usr/local/lib/python3.11/dist-packages (from tensorflow) (3.1.0)\n",
            "Requirement already satisfied: typing-extensions>=3.6.6 in /usr/local/lib/python3.11/dist-packages (from tensorflow) (4.14.1)\n",
            "Requirement already satisfied: wrapt>=1.11.0 in /usr/local/lib/python3.11/dist-packages (from tensorflow) (1.17.2)\n",
            "Requirement already satisfied: grpcio<2.0,>=1.24.3 in /usr/local/lib/python3.11/dist-packages (from tensorflow) (1.73.1)\n",
            "Requirement already satisfied: tensorboard<2.19,>=2.18 in /usr/local/lib/python3.11/dist-packages (from tensorflow) (2.18.0)\n",
            "Requirement already satisfied: keras>=3.5.0 in /usr/local/lib/python3.11/dist-packages (from tensorflow) (3.8.0)\n",
            "Requirement already satisfied: h5py>=3.11.0 in /usr/local/lib/python3.11/dist-packages (from tensorflow) (3.14.0)\n",
            "Requirement already satisfied: ml-dtypes<0.5.0,>=0.4.0 in /usr/local/lib/python3.11/dist-packages (from tensorflow) (0.4.1)\n",
            "Requirement already satisfied: tensorflow-io-gcs-filesystem>=0.23.1 in /usr/local/lib/python3.11/dist-packages (from tensorflow) (0.37.1)\n",
            "Requirement already satisfied: graphviz in /usr/local/lib/python3.11/dist-packages (from torchview) (0.21)\n",
            "Requirement already satisfied: wheel<1.0,>=0.23.0 in /usr/local/lib/python3.11/dist-packages (from astunparse>=1.6.0->tensorflow) (0.45.1)\n",
            "Requirement already satisfied: rich in /usr/local/lib/python3.11/dist-packages (from keras>=3.5.0->tensorflow) (13.9.4)\n",
            "Requirement already satisfied: namex in /usr/local/lib/python3.11/dist-packages (from keras>=3.5.0->tensorflow) (0.1.0)\n",
            "Requirement already satisfied: optree in /usr/local/lib/python3.11/dist-packages (from keras>=3.5.0->tensorflow) (0.16.0)\n",
            "Requirement already satisfied: cycler>=0.10 in /usr/local/lib/python3.11/dist-packages (from matplotlib>=3.6.0->supervision) (0.12.1)\n",
            "Requirement already satisfied: fonttools>=4.22.0 in /usr/local/lib/python3.11/dist-packages (from matplotlib>=3.6.0->supervision) (4.58.5)\n",
            "Requirement already satisfied: kiwisolver>=1.3.1 in /usr/local/lib/python3.11/dist-packages (from matplotlib>=3.6.0->supervision) (1.4.8)\n",
            "Requirement already satisfied: pyparsing>=2.3.1 in /usr/local/lib/python3.11/dist-packages (from matplotlib>=3.6.0->supervision) (3.2.3)\n",
            "Requirement already satisfied: python-dateutil>=2.7 in /usr/local/lib/python3.11/dist-packages (from matplotlib>=3.6.0->supervision) (2.9.0.post0)\n",
            "Requirement already satisfied: charset-normalizer<4,>=2 in /usr/local/lib/python3.11/dist-packages (from requests>=2.26.0->supervision) (3.4.2)\n",
            "Requirement already satisfied: idna<4,>=2.5 in /usr/local/lib/python3.11/dist-packages (from requests>=2.26.0->supervision) (3.10)\n",
            "Requirement already satisfied: urllib3<3,>=1.21.1 in /usr/local/lib/python3.11/dist-packages (from requests>=2.26.0->supervision) (2.4.0)\n",
            "Requirement already satisfied: certifi>=2017.4.17 in /usr/local/lib/python3.11/dist-packages (from requests>=2.26.0->supervision) (2025.7.9)\n",
            "Requirement already satisfied: markdown>=2.6.8 in /usr/local/lib/python3.11/dist-packages (from tensorboard<2.19,>=2.18->tensorflow) (3.8.2)\n",
            "Requirement already satisfied: tensorboard-data-server<0.8.0,>=0.7.0 in /usr/local/lib/python3.11/dist-packages (from tensorboard<2.19,>=2.18->tensorflow) (0.7.2)\n",
            "Requirement already satisfied: werkzeug>=1.0.1 in /usr/local/lib/python3.11/dist-packages (from tensorboard<2.19,>=2.18->tensorflow) (3.1.3)\n",
            "Requirement already satisfied: MarkupSafe>=2.1.1 in /usr/local/lib/python3.11/dist-packages (from werkzeug>=1.0.1->tensorboard<2.19,>=2.18->tensorflow) (3.0.2)\n",
            "Requirement already satisfied: markdown-it-py>=2.2.0 in /usr/local/lib/python3.11/dist-packages (from rich->keras>=3.5.0->tensorflow) (3.0.0)\n",
            "Requirement already satisfied: pygments<3.0.0,>=2.13.0 in /usr/local/lib/python3.11/dist-packages (from rich->keras>=3.5.0->tensorflow) (2.19.2)\n",
            "Requirement already satisfied: mdurl~=0.1 in /usr/local/lib/python3.11/dist-packages (from markdown-it-py>=2.2.0->rich->keras>=3.5.0->tensorflow) (0.1.2)\n",
            "Downloading supervision-0.25.1-py3-none-any.whl (181 kB)\n",
            "\u001b[2K   \u001b[90m━━━━━━━━━━━━━━━━━━━━━━━━━━━━━━━━━━━━━━━━\u001b[0m \u001b[32m181.5/181.5 kB\u001b[0m \u001b[31m17.2 MB/s\u001b[0m eta \u001b[36m0:00:00\u001b[0m\n",
            "\u001b[?25hDownloading torchview-0.2.7-py3-none-any.whl (26 kB)\n",
            "Installing collected packages: torchview, supervision\n",
            "Successfully installed supervision-0.25.1 torchview-0.2.7\n"
          ]
        }
      ]
    },
    {
      "cell_type": "code",
      "source": [
        "# General\n",
        "import numpy as np\n",
        "import pandas as pd\n",
        "import seaborn as sns\n",
        "import matplotlib.pyplot as plt\n",
        "import string\n",
        "import random\n",
        "import warnings\n",
        "warnings.filterwarnings('ignore')\n",
        "\n",
        "# NLP\n",
        "import re\n",
        "import nltk\n",
        "from nltk.corpus import stopwords\n",
        "from nltk.stem.porter import PorterStemmer\n",
        "nltk.download('stopwords')\n",
        "\n",
        "# Sklearn for Naive Bayes and Evaluation\n",
        "from sklearn.model_selection import train_test_split\n",
        "from sklearn.naive_bayes import MultinomialNB\n",
        "from sklearn.metrics import accuracy_score, precision_score, confusion_matrix, classification_report\n",
        "from sklearn.feature_extraction.text import TfidfVectorizer\n",
        "\n",
        "# LSTM (keras)\n",
        "from tensorflow.keras.utils import plot_model\n",
        "from tensorflow.keras.preprocessing.text import Tokenizer\n",
        "from tensorflow.keras.preprocessing.sequence import pad_sequences\n",
        "from tensorflow.keras.models import Sequential\n",
        "from tensorflow.keras.layers import Embedding, LSTM, Dense, Dropout\n",
        "from tensorflow.keras.optimizers import Adam\n",
        "from tensorflow.keras.callbacks import EarlyStopping\n",
        "\n",
        "# LSTM (PyTorch)\n",
        "import torch\n",
        "import torch.nn as nn\n",
        "import torch.optim as optim\n",
        "from torch.utils.data import DataLoader, TensorDataset\n",
        "from torch.nn.utils.rnn import pad_sequence\n",
        "\n",
        "# Visualization\n",
        "from IPython.display import Image\n",
        "from torchview import draw_graph"
      ],
      "metadata": {
        "id": "6p5T4CY1_Eaa",
        "colab": {
          "base_uri": "https://localhost:8080/"
        },
        "outputId": "95cd2108-aac9-47ab-88e9-ec92b3db6d6f"
      },
      "execution_count": null,
      "outputs": [
        {
          "output_type": "stream",
          "name": "stderr",
          "text": [
            "[nltk_data] Downloading package stopwords to /root/nltk_data...\n",
            "[nltk_data]   Unzipping corpora/stopwords.zip.\n"
          ]
        }
      ]
    },
    {
      "cell_type": "markdown",
      "source": [
        "## 2.2. Initializing GPU\n",
        "Ensure that GPU setting is enabled for faster training time"
      ],
      "metadata": {
        "id": "qYcMo-8WAePq"
      }
    },
    {
      "cell_type": "code",
      "source": [
        "# GPU initialization\n",
        "device = torch.device(\"cuda:0\" if torch.cuda.is_available() else \"cpu\")\n",
        "print(device)"
      ],
      "metadata": {
        "id": "dnvuNRpy1uoW",
        "colab": {
          "base_uri": "https://localhost:8080/"
        },
        "outputId": "b337d279-b75c-480c-eb35-f60a999b5e8e"
      },
      "execution_count": null,
      "outputs": [
        {
          "output_type": "stream",
          "name": "stdout",
          "text": [
            "cuda:0\n"
          ]
        }
      ]
    },
    {
      "cell_type": "markdown",
      "source": [
        "# **3. Dataset**\n"
      ],
      "metadata": {
        "id": "pu0087Cf-Qrh"
      }
    },
    {
      "cell_type": "markdown",
      "source": [
        "## 3.1. Dataset Description\n",
        "\n",
        "The dataset is taken from Kaggle, with its original from:\n",
        "Almeida, T. & Hidalgo, J. (2011). SMS Spam Collection [Dataset]. UCI Machine Learning Repository. https://doi.org/10.24432/C5CC84.\n",
        "\n",
        "The dataset contains 1 SMS messages per line which includes two columns:\n",
        "*   Labels: 'ham' or 'spam'\n",
        "*   SMS: Content of the messages\n",
        "\n",
        "Each SMS message is labelled 'ham' or 'spam' with each value being unique.\n"
      ],
      "metadata": {
        "id": "scadXCZw-Vmz"
      }
    },
    {
      "cell_type": "markdown",
      "source": [
        "## 3.2. Downloading Dataset\n",
        "\n",
        "For easier access to data, dataset for Assignment 2 have been uploaded to github.\n",
        "\n",
        "By using git clone, data can be downloaded from my github page.\n",
        "\n",
        "To ensure that the dataset is correct, pandas will be used to read and view the first few rows of the data."
      ],
      "metadata": {
        "id": "c9GszfRV_nXu"
      }
    },
    {
      "cell_type": "code",
      "source": [
        "# Clone the repository from GitHub\n",
        "!git clone https://github.com/wen-long123/ICT303_Data.git\n",
        "\n",
        "# Define the path to the CSV file\n",
        "dataset_path = './ICT303_Data/Assignment2_Datasets/spam.csv'\n",
        "\n",
        "# Read the CSV file using pandas\n",
        "df = pd.read_csv(dataset_path, encoding='latin-1')  # Latin-1 encoding handles special characters\n",
        "df = df[['v1', 'v2']]  # Only keep the label and message columns\n",
        "df.columns = ['label', 'message']  # Rename columns for clarity\n",
        "\n",
        "# Preview the first few rows\n",
        "df.head()"
      ],
      "metadata": {
        "id": "36eyCpaX_3Ya",
        "colab": {
          "base_uri": "https://localhost:8080/",
          "height": 327
        },
        "outputId": "d02c1bb9-fe4f-4cf1-e3fa-6ba1ddf6a32c"
      },
      "execution_count": null,
      "outputs": [
        {
          "output_type": "stream",
          "name": "stdout",
          "text": [
            "Cloning into 'ICT303_Data'...\n",
            "remote: Enumerating objects: 3864, done.\u001b[K\n",
            "remote: Counting objects: 100% (3864/3864), done.\u001b[K\n",
            "remote: Compressing objects: 100% (3858/3858), done.\u001b[K\n",
            "remote: Total 3864 (delta 3), reused 3853 (delta 1), pack-reused 0 (from 0)\u001b[K\n",
            "Receiving objects: 100% (3864/3864), 40.23 MiB | 16.16 MiB/s, done.\n",
            "Resolving deltas: 100% (3/3), done.\n"
          ]
        },
        {
          "output_type": "execute_result",
          "data": {
            "text/plain": [
              "  label                                            message\n",
              "0   ham  Go until jurong point, crazy.. Available only ...\n",
              "1   ham                      Ok lar... Joking wif u oni...\n",
              "2  spam  Free entry in 2 a wkly comp to win FA Cup fina...\n",
              "3   ham  U dun say so early hor... U c already then say...\n",
              "4   ham  Nah I don't think he goes to usf, he lives aro..."
            ],
            "text/html": [
              "\n",
              "  <div id=\"df-f8a4414d-b0bd-4a81-881e-0105f58acde7\" class=\"colab-df-container\">\n",
              "    <div>\n",
              "<style scoped>\n",
              "    .dataframe tbody tr th:only-of-type {\n",
              "        vertical-align: middle;\n",
              "    }\n",
              "\n",
              "    .dataframe tbody tr th {\n",
              "        vertical-align: top;\n",
              "    }\n",
              "\n",
              "    .dataframe thead th {\n",
              "        text-align: right;\n",
              "    }\n",
              "</style>\n",
              "<table border=\"1\" class=\"dataframe\">\n",
              "  <thead>\n",
              "    <tr style=\"text-align: right;\">\n",
              "      <th></th>\n",
              "      <th>label</th>\n",
              "      <th>message</th>\n",
              "    </tr>\n",
              "  </thead>\n",
              "  <tbody>\n",
              "    <tr>\n",
              "      <th>0</th>\n",
              "      <td>ham</td>\n",
              "      <td>Go until jurong point, crazy.. Available only ...</td>\n",
              "    </tr>\n",
              "    <tr>\n",
              "      <th>1</th>\n",
              "      <td>ham</td>\n",
              "      <td>Ok lar... Joking wif u oni...</td>\n",
              "    </tr>\n",
              "    <tr>\n",
              "      <th>2</th>\n",
              "      <td>spam</td>\n",
              "      <td>Free entry in 2 a wkly comp to win FA Cup fina...</td>\n",
              "    </tr>\n",
              "    <tr>\n",
              "      <th>3</th>\n",
              "      <td>ham</td>\n",
              "      <td>U dun say so early hor... U c already then say...</td>\n",
              "    </tr>\n",
              "    <tr>\n",
              "      <th>4</th>\n",
              "      <td>ham</td>\n",
              "      <td>Nah I don't think he goes to usf, he lives aro...</td>\n",
              "    </tr>\n",
              "  </tbody>\n",
              "</table>\n",
              "</div>\n",
              "    <div class=\"colab-df-buttons\">\n",
              "\n",
              "  <div class=\"colab-df-container\">\n",
              "    <button class=\"colab-df-convert\" onclick=\"convertToInteractive('df-f8a4414d-b0bd-4a81-881e-0105f58acde7')\"\n",
              "            title=\"Convert this dataframe to an interactive table.\"\n",
              "            style=\"display:none;\">\n",
              "\n",
              "  <svg xmlns=\"http://www.w3.org/2000/svg\" height=\"24px\" viewBox=\"0 -960 960 960\">\n",
              "    <path d=\"M120-120v-720h720v720H120Zm60-500h600v-160H180v160Zm220 220h160v-160H400v160Zm0 220h160v-160H400v160ZM180-400h160v-160H180v160Zm440 0h160v-160H620v160ZM180-180h160v-160H180v160Zm440 0h160v-160H620v160Z\"/>\n",
              "  </svg>\n",
              "    </button>\n",
              "\n",
              "  <style>\n",
              "    .colab-df-container {\n",
              "      display:flex;\n",
              "      gap: 12px;\n",
              "    }\n",
              "\n",
              "    .colab-df-convert {\n",
              "      background-color: #E8F0FE;\n",
              "      border: none;\n",
              "      border-radius: 50%;\n",
              "      cursor: pointer;\n",
              "      display: none;\n",
              "      fill: #1967D2;\n",
              "      height: 32px;\n",
              "      padding: 0 0 0 0;\n",
              "      width: 32px;\n",
              "    }\n",
              "\n",
              "    .colab-df-convert:hover {\n",
              "      background-color: #E2EBFA;\n",
              "      box-shadow: 0px 1px 2px rgba(60, 64, 67, 0.3), 0px 1px 3px 1px rgba(60, 64, 67, 0.15);\n",
              "      fill: #174EA6;\n",
              "    }\n",
              "\n",
              "    .colab-df-buttons div {\n",
              "      margin-bottom: 4px;\n",
              "    }\n",
              "\n",
              "    [theme=dark] .colab-df-convert {\n",
              "      background-color: #3B4455;\n",
              "      fill: #D2E3FC;\n",
              "    }\n",
              "\n",
              "    [theme=dark] .colab-df-convert:hover {\n",
              "      background-color: #434B5C;\n",
              "      box-shadow: 0px 1px 3px 1px rgba(0, 0, 0, 0.15);\n",
              "      filter: drop-shadow(0px 1px 2px rgba(0, 0, 0, 0.3));\n",
              "      fill: #FFFFFF;\n",
              "    }\n",
              "  </style>\n",
              "\n",
              "    <script>\n",
              "      const buttonEl =\n",
              "        document.querySelector('#df-f8a4414d-b0bd-4a81-881e-0105f58acde7 button.colab-df-convert');\n",
              "      buttonEl.style.display =\n",
              "        google.colab.kernel.accessAllowed ? 'block' : 'none';\n",
              "\n",
              "      async function convertToInteractive(key) {\n",
              "        const element = document.querySelector('#df-f8a4414d-b0bd-4a81-881e-0105f58acde7');\n",
              "        const dataTable =\n",
              "          await google.colab.kernel.invokeFunction('convertToInteractive',\n",
              "                                                    [key], {});\n",
              "        if (!dataTable) return;\n",
              "\n",
              "        const docLinkHtml = 'Like what you see? Visit the ' +\n",
              "          '<a target=\"_blank\" href=https://colab.research.google.com/notebooks/data_table.ipynb>data table notebook</a>'\n",
              "          + ' to learn more about interactive tables.';\n",
              "        element.innerHTML = '';\n",
              "        dataTable['output_type'] = 'display_data';\n",
              "        await google.colab.output.renderOutput(dataTable, element);\n",
              "        const docLink = document.createElement('div');\n",
              "        docLink.innerHTML = docLinkHtml;\n",
              "        element.appendChild(docLink);\n",
              "      }\n",
              "    </script>\n",
              "  </div>\n",
              "\n",
              "\n",
              "    <div id=\"df-edc9c819-9e09-4de3-ad2f-dcb807e115db\">\n",
              "      <button class=\"colab-df-quickchart\" onclick=\"quickchart('df-edc9c819-9e09-4de3-ad2f-dcb807e115db')\"\n",
              "                title=\"Suggest charts\"\n",
              "                style=\"display:none;\">\n",
              "\n",
              "<svg xmlns=\"http://www.w3.org/2000/svg\" height=\"24px\"viewBox=\"0 0 24 24\"\n",
              "     width=\"24px\">\n",
              "    <g>\n",
              "        <path d=\"M19 3H5c-1.1 0-2 .9-2 2v14c0 1.1.9 2 2 2h14c1.1 0 2-.9 2-2V5c0-1.1-.9-2-2-2zM9 17H7v-7h2v7zm4 0h-2V7h2v10zm4 0h-2v-4h2v4z\"/>\n",
              "    </g>\n",
              "</svg>\n",
              "      </button>\n",
              "\n",
              "<style>\n",
              "  .colab-df-quickchart {\n",
              "      --bg-color: #E8F0FE;\n",
              "      --fill-color: #1967D2;\n",
              "      --hover-bg-color: #E2EBFA;\n",
              "      --hover-fill-color: #174EA6;\n",
              "      --disabled-fill-color: #AAA;\n",
              "      --disabled-bg-color: #DDD;\n",
              "  }\n",
              "\n",
              "  [theme=dark] .colab-df-quickchart {\n",
              "      --bg-color: #3B4455;\n",
              "      --fill-color: #D2E3FC;\n",
              "      --hover-bg-color: #434B5C;\n",
              "      --hover-fill-color: #FFFFFF;\n",
              "      --disabled-bg-color: #3B4455;\n",
              "      --disabled-fill-color: #666;\n",
              "  }\n",
              "\n",
              "  .colab-df-quickchart {\n",
              "    background-color: var(--bg-color);\n",
              "    border: none;\n",
              "    border-radius: 50%;\n",
              "    cursor: pointer;\n",
              "    display: none;\n",
              "    fill: var(--fill-color);\n",
              "    height: 32px;\n",
              "    padding: 0;\n",
              "    width: 32px;\n",
              "  }\n",
              "\n",
              "  .colab-df-quickchart:hover {\n",
              "    background-color: var(--hover-bg-color);\n",
              "    box-shadow: 0 1px 2px rgba(60, 64, 67, 0.3), 0 1px 3px 1px rgba(60, 64, 67, 0.15);\n",
              "    fill: var(--button-hover-fill-color);\n",
              "  }\n",
              "\n",
              "  .colab-df-quickchart-complete:disabled,\n",
              "  .colab-df-quickchart-complete:disabled:hover {\n",
              "    background-color: var(--disabled-bg-color);\n",
              "    fill: var(--disabled-fill-color);\n",
              "    box-shadow: none;\n",
              "  }\n",
              "\n",
              "  .colab-df-spinner {\n",
              "    border: 2px solid var(--fill-color);\n",
              "    border-color: transparent;\n",
              "    border-bottom-color: var(--fill-color);\n",
              "    animation:\n",
              "      spin 1s steps(1) infinite;\n",
              "  }\n",
              "\n",
              "  @keyframes spin {\n",
              "    0% {\n",
              "      border-color: transparent;\n",
              "      border-bottom-color: var(--fill-color);\n",
              "      border-left-color: var(--fill-color);\n",
              "    }\n",
              "    20% {\n",
              "      border-color: transparent;\n",
              "      border-left-color: var(--fill-color);\n",
              "      border-top-color: var(--fill-color);\n",
              "    }\n",
              "    30% {\n",
              "      border-color: transparent;\n",
              "      border-left-color: var(--fill-color);\n",
              "      border-top-color: var(--fill-color);\n",
              "      border-right-color: var(--fill-color);\n",
              "    }\n",
              "    40% {\n",
              "      border-color: transparent;\n",
              "      border-right-color: var(--fill-color);\n",
              "      border-top-color: var(--fill-color);\n",
              "    }\n",
              "    60% {\n",
              "      border-color: transparent;\n",
              "      border-right-color: var(--fill-color);\n",
              "    }\n",
              "    80% {\n",
              "      border-color: transparent;\n",
              "      border-right-color: var(--fill-color);\n",
              "      border-bottom-color: var(--fill-color);\n",
              "    }\n",
              "    90% {\n",
              "      border-color: transparent;\n",
              "      border-bottom-color: var(--fill-color);\n",
              "    }\n",
              "  }\n",
              "</style>\n",
              "\n",
              "      <script>\n",
              "        async function quickchart(key) {\n",
              "          const quickchartButtonEl =\n",
              "            document.querySelector('#' + key + ' button');\n",
              "          quickchartButtonEl.disabled = true;  // To prevent multiple clicks.\n",
              "          quickchartButtonEl.classList.add('colab-df-spinner');\n",
              "          try {\n",
              "            const charts = await google.colab.kernel.invokeFunction(\n",
              "                'suggestCharts', [key], {});\n",
              "          } catch (error) {\n",
              "            console.error('Error during call to suggestCharts:', error);\n",
              "          }\n",
              "          quickchartButtonEl.classList.remove('colab-df-spinner');\n",
              "          quickchartButtonEl.classList.add('colab-df-quickchart-complete');\n",
              "        }\n",
              "        (() => {\n",
              "          let quickchartButtonEl =\n",
              "            document.querySelector('#df-edc9c819-9e09-4de3-ad2f-dcb807e115db button');\n",
              "          quickchartButtonEl.style.display =\n",
              "            google.colab.kernel.accessAllowed ? 'block' : 'none';\n",
              "        })();\n",
              "      </script>\n",
              "    </div>\n",
              "\n",
              "    </div>\n",
              "  </div>\n"
            ],
            "application/vnd.google.colaboratory.intrinsic+json": {
              "type": "dataframe",
              "variable_name": "df",
              "summary": "{\n  \"name\": \"df\",\n  \"rows\": 5572,\n  \"fields\": [\n    {\n      \"column\": \"label\",\n      \"properties\": {\n        \"dtype\": \"category\",\n        \"num_unique_values\": 2,\n        \"samples\": [\n          \"spam\",\n          \"ham\"\n        ],\n        \"semantic_type\": \"\",\n        \"description\": \"\"\n      }\n    },\n    {\n      \"column\": \"message\",\n      \"properties\": {\n        \"dtype\": \"string\",\n        \"num_unique_values\": 5169,\n        \"samples\": [\n          \"Did u download the fring app?\",\n          \"Pass dis to all ur contacts n see wat u get! Red;i'm in luv wid u. Blue;u put a smile on my face. Purple;u r realy hot. Pink;u r so swt. Orange;i thnk i lyk u. Green;i realy wana go out wid u. Yelow;i wnt u bck. Black;i'm jealous of u. Brown;i miss you Nw plz giv me one color\"\n        ],\n        \"semantic_type\": \"\",\n        \"description\": \"\"\n      }\n    }\n  ]\n}"
            }
          },
          "metadata": {},
          "execution_count": 4
        }
      ]
    },
    {
      "cell_type": "markdown",
      "source": [
        "#### 3.2.1. Data Information\n",
        "\n",
        "After the loading of datasets, we examine its structure and quality to understand the content and identify any potential issues."
      ],
      "metadata": {
        "id": "9W5LE4mk4Y-a"
      }
    },
    {
      "cell_type": "code",
      "source": [
        "# Display dataset info\n",
        "print(\"### Dataset Info ###\")\n",
        "df.info()\n",
        "\n",
        "# Prepare data\n",
        "label_counts = df['label'].value_counts()\n",
        "duplicate_count = df.duplicated().sum()\n",
        "unique_count = len(df) - duplicate_count\n",
        "\n",
        "# Plot\n",
        "fig, axes = plt.subplots(1, 2, figsize=(10, 4))  # Smaller layout\n",
        "\n",
        "# Label Distribution\n",
        "sns.barplot(x=label_counts.index, y=label_counts.values, palette='pastel', ax=axes[0])\n",
        "axes[0].set_title(\"Label Distribution\")\n",
        "axes[0].set_xlabel(\"Label\")\n",
        "axes[0].set_ylabel(\"Count\")\n",
        "for i, v in enumerate(label_counts.values):\n",
        "    axes[0].text(i, v + 5, str(v), ha='center', fontweight='bold')\n",
        "\n",
        "# Duplicate Proportion\n",
        "axes[1].pie([unique_count, duplicate_count],\n",
        "            labels=[\"Unique\", \"Duplicated\"],\n",
        "            autopct='%1.1f%%',\n",
        "            startangle=90,\n",
        "            colors=[\"lightgreen\", \"lightcoral\"])\n",
        "axes[1].set_title(\"Duplicate Rows\")\n",
        "\n",
        "plt.tight_layout()\n",
        "plt.show()\n",
        "\n",
        "# Check for null values\n",
        "print(\"\\n### Null Values in Each Column ###\")\n",
        "print(df.isnull().sum())"
      ],
      "metadata": {
        "colab": {
          "base_uri": "https://localhost:8080/",
          "height": 667
        },
        "id": "DTo9Tc0-ZxmD",
        "outputId": "c3397ab1-0ada-4b15-f2a5-329cba123d48"
      },
      "execution_count": null,
      "outputs": [
        {
          "output_type": "stream",
          "name": "stdout",
          "text": [
            "### Dataset Info ###\n",
            "<class 'pandas.core.frame.DataFrame'>\n",
            "RangeIndex: 5572 entries, 0 to 5571\n",
            "Data columns (total 2 columns):\n",
            " #   Column   Non-Null Count  Dtype \n",
            "---  ------   --------------  ----- \n",
            " 0   label    5572 non-null   object\n",
            " 1   message  5572 non-null   object\n",
            "dtypes: object(2)\n",
            "memory usage: 87.2+ KB\n"
          ]
        },
        {
          "output_type": "display_data",
          "data": {
            "text/plain": [
              "<Figure size 1000x400 with 2 Axes>"
            ],
            "image/png": "[encoded data removed]"
          },
          "metadata": {}
        },
        {
          "output_type": "stream",
          "name": "stdout",
          "text": [
            "\n",
            "### Null Values in Each Column ###\n",
            "label      0\n",
            "message    0\n",
            "dtype: int64\n"
          ]
        }
      ]
    },
    {
      "cell_type": "markdown",
      "source": [
        "## 3.3. Data Cleaning & Preprocessing\n",
        "\n",
        "To prevent data leakage or inconsistencies, data cleaning and preprocessing are essential steps before feeding the data into the models. The steps for data cleaning includes:\n",
        "- Removing null or duplicate entries\n",
        "- Lowercasing texts\n",
        "- Remove punctuation\n",
        "- Tokenization\n",
        "- Remove stopwords, eg. common non-informative words like 'is', 'the', 'a'\n",
        "- Stemming, eg. reduces words to root (e.g., \"running\" → \"run\")\n",
        "- Encoding ham and spam to 0 and 1 respectively\n",
        "\n",
        "This ensures that the dataset is clean, standardized, and ready for model training, allowing algorithms to focus on the most informative features and improving overall classification accuracy."
      ],
      "metadata": {
        "id": "ukteM2EwxbYS"
      }
    },
    {
      "cell_type": "code",
      "source": [
        "# Remove duplicated values\n",
        "df.drop_duplicates(inplace=True)\n",
        "\n",
        "# Encode label: ham = 0, spam = 1\n",
        "df['label'] = df['label'].map({'ham': 0, 'spam': 1})\n",
        "\n",
        "# Initialize tools\n",
        "ps = PorterStemmer()\n",
        "stop_words = set(stopwords.words('english'))\n",
        "\n",
        "# Text cleaning function\n",
        "def clean_text(text):\n",
        "    # Lowercase\n",
        "    text = text.lower()\n",
        "\n",
        "    # Remove punctuation\n",
        "    text = re.sub(f\"[{re.escape(string.punctuation)}]\", \"\", text)\n",
        "\n",
        "    # Tokenize and remove stopwords\n",
        "    tokens = text.split()\n",
        "    tokens = [ps.stem(word) for word in tokens if word not in stop_words]\n",
        "    return \" \".join(tokens)\n",
        "\n",
        "# Count ham and spam entries\n",
        "print(\"\\n### Label Distribution ###\")\n",
        "print(df['label'].value_counts())\n",
        "\n",
        "# Check for duplicated rows\n",
        "print(\"\\n### Number of Duplicated Entries ###\")\n",
        "print(f\"{df.duplicated().sum()}\")\n",
        "\n",
        "# Apply clean text\n",
        "df['cleaned'] = df['message'].apply(clean_text)\n",
        "\n",
        "# Preview the first few rows\n",
        "df[['label', 'message', 'cleaned']].head()"
      ],
      "metadata": {
        "id": "1vpp_krrxieb",
        "colab": {
          "base_uri": "https://localhost:8080/",
          "height": 362
        },
        "outputId": "9a23ad05-80ae-48c9-bc68-ed0f1dd2d15f"
      },
      "execution_count": null,
      "outputs": [
        {
          "output_type": "stream",
          "name": "stdout",
          "text": [
            "\n",
            "### Label Distribution ###\n",
            "label\n",
            "0    4516\n",
            "1     653\n",
            "Name: count, dtype: int64\n",
            "\n",
            "### Number of Duplicated Entries ###\n",
            "0\n"
          ]
        },
        {
          "output_type": "execute_result",
          "data": {
            "text/plain": [
              "   label                                            message  \\\n",
              "0      0  Go until jurong point, crazy.. Available only ...   \n",
              "1      0                      Ok lar... Joking wif u oni...   \n",
              "2      1  Free entry in 2 a wkly comp to win FA Cup fina...   \n",
              "3      0  U dun say so early hor... U c already then say...   \n",
              "4      0  Nah I don't think he goes to usf, he lives aro...   \n",
              "\n",
              "                                             cleaned  \n",
              "0  go jurong point crazi avail bugi n great world...  \n",
              "1                              ok lar joke wif u oni  \n",
              "2  free entri 2 wkli comp win fa cup final tkt 21...  \n",
              "3                u dun say earli hor u c alreadi say  \n",
              "4          nah dont think goe usf live around though  "
            ],
            "text/html": [
              "\n",
              "  <div id=\"df-73f20a32-8e3a-4735-b191-fe4a5f6ebf07\" class=\"colab-df-container\">\n",
              "    <div>\n",
              "<style scoped>\n",
              "    .dataframe tbody tr th:only-of-type {\n",
              "        vertical-align: middle;\n",
              "    }\n",
              "\n",
              "    .dataframe tbody tr th {\n",
              "        vertical-align: top;\n",
              "    }\n",
              "\n",
              "    .dataframe thead th {\n",
              "        text-align: right;\n",
              "    }\n",
              "</style>\n",
              "<table border=\"1\" class=\"dataframe\">\n",
              "  <thead>\n",
              "    <tr style=\"text-align: right;\">\n",
              "      <th></th>\n",
              "      <th>label</th>\n",
              "      <th>message</th>\n",
              "      <th>cleaned</th>\n",
              "    </tr>\n",
              "  </thead>\n",
              "  <tbody>\n",
              "    <tr>\n",
              "      <th>0</th>\n",
              "      <td>0</td>\n",
              "      <td>Go until jurong point, crazy.. Available only ...</td>\n",
              "      <td>go jurong point crazi avail bugi n great world...</td>\n",
              "    </tr>\n",
              "    <tr>\n",
              "      <th>1</th>\n",
              "      <td>0</td>\n",
              "      <td>Ok lar... Joking wif u oni...</td>\n",
              "      <td>ok lar joke wif u oni</td>\n",
              "    </tr>\n",
              "    <tr>\n",
              "      <th>2</th>\n",
              "      <td>1</td>\n",
              "      <td>Free entry in 2 a wkly comp to win FA Cup fina...</td>\n",
              "      <td>free entri 2 wkli comp win fa cup final tkt 21...</td>\n",
              "    </tr>\n",
              "    <tr>\n",
              "      <th>3</th>\n",
              "      <td>0</td>\n",
              "      <td>U dun say so early hor... U c already then say...</td>\n",
              "      <td>u dun say earli hor u c alreadi say</td>\n",
              "    </tr>\n",
              "    <tr>\n",
              "      <th>4</th>\n",
              "      <td>0</td>\n",
              "      <td>Nah I don't think he goes to usf, he lives aro...</td>\n",
              "      <td>nah dont think goe usf live around though</td>\n",
              "    </tr>\n",
              "  </tbody>\n",
              "</table>\n",
              "</div>\n",
              "    <div class=\"colab-df-buttons\">\n",
              "\n",
              "  <div class=\"colab-df-container\">\n",
              "    <button class=\"colab-df-convert\" onclick=\"convertToInteractive('df-73f20a32-8e3a-4735-b191-fe4a5f6ebf07')\"\n",
              "            title=\"Convert this dataframe to an interactive table.\"\n",
              "            style=\"display:none;\">\n",
              "\n",
              "  <svg xmlns=\"http://www.w3.org/2000/svg\" height=\"24px\" viewBox=\"0 -960 960 960\">\n",
              "    <path d=\"M120-120v-720h720v720H120Zm60-500h600v-160H180v160Zm220 220h160v-160H400v160Zm0 220h160v-160H400v160ZM180-400h160v-160H180v160Zm440 0h160v-160H620v160ZM180-180h160v-160H180v160Zm440 0h160v-160H620v160Z\"/>\n",
              "  </svg>\n",
              "    </button>\n",
              "\n",
              "  <style>\n",
              "    .colab-df-container {\n",
              "      display:flex;\n",
              "      gap: 12px;\n",
              "    }\n",
              "\n",
              "    .colab-df-convert {\n",
              "      background-color: #E8F0FE;\n",
              "      border: none;\n",
              "      border-radius: 50%;\n",
              "      cursor: pointer;\n",
              "      display: none;\n",
              "      fill: #1967D2;\n",
              "      height: 32px;\n",
              "      padding: 0 0 0 0;\n",
              "      width: 32px;\n",
              "    }\n",
              "\n",
              "    .colab-df-convert:hover {\n",
              "      background-color: #E2EBFA;\n",
              "      box-shadow: 0px 1px 2px rgba(60, 64, 67, 0.3), 0px 1px 3px 1px rgba(60, 64, 67, 0.15);\n",
              "      fill: #174EA6;\n",
              "    }\n",
              "\n",
              "    .colab-df-buttons div {\n",
              "      margin-bottom: 4px;\n",
              "    }\n",
              "\n",
              "    [theme=dark] .colab-df-convert {\n",
              "      background-color: #3B4455;\n",
              "      fill: #D2E3FC;\n",
              "    }\n",
              "\n",
              "    [theme=dark] .colab-df-convert:hover {\n",
              "      background-color: #434B5C;\n",
              "      box-shadow: 0px 1px 3px 1px rgba(0, 0, 0, 0.15);\n",
              "      filter: drop-shadow(0px 1px 2px rgba(0, 0, 0, 0.3));\n",
              "      fill: #FFFFFF;\n",
              "    }\n",
              "  </style>\n",
              "\n",
              "    <script>\n",
              "      const buttonEl =\n",
              "        document.querySelector('#df-73f20a32-8e3a-4735-b191-fe4a5f6ebf07 button.colab-df-convert');\n",
              "      buttonEl.style.display =\n",
              "        google.colab.kernel.accessAllowed ? 'block' : 'none';\n",
              "\n",
              "      async function convertToInteractive(key) {\n",
              "        const element = document.querySelector('#df-73f20a32-8e3a-4735-b191-fe4a5f6ebf07');\n",
              "        const dataTable =\n",
              "          await google.colab.kernel.invokeFunction('convertToInteractive',\n",
              "                                                    [key], {});\n",
              "        if (!dataTable) return;\n",
              "\n",
              "        const docLinkHtml = 'Like what you see? Visit the ' +\n",
              "          '<a target=\"_blank\" href=https://colab.research.google.com/notebooks/data_table.ipynb>data table notebook</a>'\n",
              "          + ' to learn more about interactive tables.';\n",
              "        element.innerHTML = '';\n",
              "        dataTable['output_type'] = 'display_data';\n",
              "        await google.colab.output.renderOutput(dataTable, element);\n",
              "        const docLink = document.createElement('div');\n",
              "        docLink.innerHTML = docLinkHtml;\n",
              "        element.appendChild(docLink);\n",
              "      }\n",
              "    </script>\n",
              "  </div>\n",
              "\n",
              "\n",
              "    <div id=\"df-7558eac5-245f-49c8-bbf0-86532ee7aef5\">\n",
              "      <button class=\"colab-df-quickchart\" onclick=\"quickchart('df-7558eac5-245f-49c8-bbf0-86532ee7aef5')\"\n",
              "                title=\"Suggest charts\"\n",
              "                style=\"display:none;\">\n",
              "\n",
              "<svg xmlns=\"http://www.w3.org/2000/svg\" height=\"24px\"viewBox=\"0 0 24 24\"\n",
              "     width=\"24px\">\n",
              "    <g>\n",
              "        <path d=\"M19 3H5c-1.1 0-2 .9-2 2v14c0 1.1.9 2 2 2h14c1.1 0 2-.9 2-2V5c0-1.1-.9-2-2-2zM9 17H7v-7h2v7zm4 0h-2V7h2v10zm4 0h-2v-4h2v4z\"/>\n",
              "    </g>\n",
              "</svg>\n",
              "      </button>\n",
              "\n",
              "<style>\n",
              "  .colab-df-quickchart {\n",
              "      --bg-color: #E8F0FE;\n",
              "      --fill-color: #1967D2;\n",
              "      --hover-bg-color: #E2EBFA;\n",
              "      --hover-fill-color: #174EA6;\n",
              "      --disabled-fill-color: #AAA;\n",
              "      --disabled-bg-color: #DDD;\n",
              "  }\n",
              "\n",
              "  [theme=dark] .colab-df-quickchart {\n",
              "      --bg-color: #3B4455;\n",
              "      --fill-color: #D2E3FC;\n",
              "      --hover-bg-color: #434B5C;\n",
              "      --hover-fill-color: #FFFFFF;\n",
              "      --disabled-bg-color: #3B4455;\n",
              "      --disabled-fill-color: #666;\n",
              "  }\n",
              "\n",
              "  .colab-df-quickchart {\n",
              "    background-color: var(--bg-color);\n",
              "    border: none;\n",
              "    border-radius: 50%;\n",
              "    cursor: pointer;\n",
              "    display: none;\n",
              "    fill: var(--fill-color);\n",
              "    height: 32px;\n",
              "    padding: 0;\n",
              "    width: 32px;\n",
              "  }\n",
              "\n",
              "  .colab-df-quickchart:hover {\n",
              "    background-color: var(--hover-bg-color);\n",
              "    box-shadow: 0 1px 2px rgba(60, 64, 67, 0.3), 0 1px 3px 1px rgba(60, 64, 67, 0.15);\n",
              "    fill: var(--button-hover-fill-color);\n",
              "  }\n",
              "\n",
              "  .colab-df-quickchart-complete:disabled,\n",
              "  .colab-df-quickchart-complete:disabled:hover {\n",
              "    background-color: var(--disabled-bg-color);\n",
              "    fill: var(--disabled-fill-color);\n",
              "    box-shadow: none;\n",
              "  }\n",
              "\n",
              "  .colab-df-spinner {\n",
              "    border: 2px solid var(--fill-color);\n",
              "    border-color: transparent;\n",
              "    border-bottom-color: var(--fill-color);\n",
              "    animation:\n",
              "      spin 1s steps(1) infinite;\n",
              "  }\n",
              "\n",
              "  @keyframes spin {\n",
              "    0% {\n",
              "      border-color: transparent;\n",
              "      border-bottom-color: var(--fill-color);\n",
              "      border-left-color: var(--fill-color);\n",
              "    }\n",
              "    20% {\n",
              "      border-color: transparent;\n",
              "      border-left-color: var(--fill-color);\n",
              "      border-top-color: var(--fill-color);\n",
              "    }\n",
              "    30% {\n",
              "      border-color: transparent;\n",
              "      border-left-color: var(--fill-color);\n",
              "      border-top-color: var(--fill-color);\n",
              "      border-right-color: var(--fill-color);\n",
              "    }\n",
              "    40% {\n",
              "      border-color: transparent;\n",
              "      border-right-color: var(--fill-color);\n",
              "      border-top-color: var(--fill-color);\n",
              "    }\n",
              "    60% {\n",
              "      border-color: transparent;\n",
              "      border-right-color: var(--fill-color);\n",
              "    }\n",
              "    80% {\n",
              "      border-color: transparent;\n",
              "      border-right-color: var(--fill-color);\n",
              "      border-bottom-color: var(--fill-color);\n",
              "    }\n",
              "    90% {\n",
              "      border-color: transparent;\n",
              "      border-bottom-color: var(--fill-color);\n",
              "    }\n",
              "  }\n",
              "</style>\n",
              "\n",
              "      <script>\n",
              "        async function quickchart(key) {\n",
              "          const quickchartButtonEl =\n",
              "            document.querySelector('#' + key + ' button');\n",
              "          quickchartButtonEl.disabled = true;  // To prevent multiple clicks.\n",
              "          quickchartButtonEl.classList.add('colab-df-spinner');\n",
              "          try {\n",
              "            const charts = await google.colab.kernel.invokeFunction(\n",
              "                'suggestCharts', [key], {});\n",
              "          } catch (error) {\n",
              "            console.error('Error during call to suggestCharts:', error);\n",
              "          }\n",
              "          quickchartButtonEl.classList.remove('colab-df-spinner');\n",
              "          quickchartButtonEl.classList.add('colab-df-quickchart-complete');\n",
              "        }\n",
              "        (() => {\n",
              "          let quickchartButtonEl =\n",
              "            document.querySelector('#df-7558eac5-245f-49c8-bbf0-86532ee7aef5 button');\n",
              "          quickchartButtonEl.style.display =\n",
              "            google.colab.kernel.accessAllowed ? 'block' : 'none';\n",
              "        })();\n",
              "      </script>\n",
              "    </div>\n",
              "\n",
              "    </div>\n",
              "  </div>\n"
            ],
            "application/vnd.google.colaboratory.intrinsic+json": {
              "type": "dataframe",
              "summary": "{\n  \"name\": \"df[['label', 'message', 'cleaned']]\",\n  \"rows\": 5,\n  \"fields\": [\n    {\n      \"column\": \"label\",\n      \"properties\": {\n        \"dtype\": \"number\",\n        \"std\": 0,\n        \"min\": 0,\n        \"max\": 1,\n        \"num_unique_values\": 2,\n        \"samples\": [\n          1,\n          0\n        ],\n        \"semantic_type\": \"\",\n        \"description\": \"\"\n      }\n    },\n    {\n      \"column\": \"message\",\n      \"properties\": {\n        \"dtype\": \"string\",\n        \"num_unique_values\": 5,\n        \"samples\": [\n          \"Ok lar... Joking wif u oni...\",\n          \"Nah I don't think he goes to usf, he lives around here though\"\n        ],\n        \"semantic_type\": \"\",\n        \"description\": \"\"\n      }\n    },\n    {\n      \"column\": \"cleaned\",\n      \"properties\": {\n        \"dtype\": \"string\",\n        \"num_unique_values\": 5,\n        \"samples\": [\n          \"ok lar joke wif u oni\",\n          \"nah dont think goe usf live around though\"\n        ],\n        \"semantic_type\": \"\",\n        \"description\": \"\"\n      }\n    }\n  ]\n}"
            }
          },
          "metadata": {},
          "execution_count": 7
        }
      ]
    },
    {
      "cell_type": "markdown",
      "source": [
        "## 3.4. Data Splitting\n",
        "\n",
        "In this section, we will split the dataset into the following:\n",
        "- Training Data: 70%\n",
        "- Validation Data: 20%\n",
        "- Test Data: 10%\n",
        "\n",
        "By splitting the dataset into this way, we ensure that:\n",
        "- The model have sufficient examples for **training** and learning.\n",
        "- The **validation data** helps in the evaluation of the model.\n",
        "- The **test data** acts as a benchmark to assess the performance of each model for comparison.\n",
        "\n",
        "We will first split 70% of the data for training and 30% as a temporary set. The temporary set will be further split into 20% for validation and 10% for testing. Lastly, using stratify to ensures label distribution is preserved across splits"
      ],
      "metadata": {
        "id": "8r9Q28Gr6aTP"
      }
    },
    {
      "cell_type": "code",
      "source": [
        "# Define features and labels\n",
        "x = df['cleaned']\n",
        "y = df['label']\n",
        "\n",
        "# Split dataset into Train (70%) and Temp (30%)\n",
        "x_train, x_temp, y_train, y_temp = train_test_split(x, y, test_size=0.3, random_state=42, stratify=y)\n",
        "\n",
        "# Split Temp into Validation (20%) and Test (10%)\n",
        "x_val, x_test, y_val, y_test = train_test_split(x_temp, y_temp, test_size=1/3, random_state=42, stratify=y_temp)\n",
        "\n",
        "# ==== Display Set Size ====\n",
        "# Get dataset sizes\n",
        "train_size = len(x_train)\n",
        "val_size = len(x_val)\n",
        "test_size = len(x_test)\n",
        "\n",
        "# Pie chart values and labels\n",
        "sizes = [train_size, val_size, test_size]\n",
        "labels = [f'Train ({train_size})', f'Validation ({val_size})', f'Test ({test_size})']\n",
        "colors = ['lightgreen', 'lightskyblue', 'lightcoral']\n",
        "\n",
        "# Plot pie chart\n",
        "plt.figure(figsize=(6, 6))\n",
        "plt.pie(sizes, labels=labels, autopct='%1.1f%%', startangle=140, colors=colors)\n",
        "plt.title(\"Dataset Split: Train / Validation / Test\")\n",
        "plt.axis('equal')  # Equal aspect ratio ensures that pie is drawn as a circle\n",
        "plt.show()"
      ],
      "metadata": {
        "colab": {
          "base_uri": "https://localhost:8080/",
          "height": 529
        },
        "id": "R_8rncLNty-j",
        "outputId": "cbbaa84c-e63e-4599-d884-39fcafe0574d"
      },
      "execution_count": null,
      "outputs": [
        {
          "output_type": "display_data",
          "data": {
            "text/plain": [
              "<Figure size 600x600 with 1 Axes>"
            ],
            "image/png": "[encoded data removed]"
          },
          "metadata": {}
        }
      ]
    },
    {
      "cell_type": "markdown",
      "source": [
        "## 3.5. Data Preparation\n",
        "Since there are three different models, we prepared the data separately to suit the input requirements of each model."
      ],
      "metadata": {
        "id": "qXWnvItH_39q"
      }
    },
    {
      "cell_type": "markdown",
      "source": [
        "### 3.5.1. Preparation for Naive Bayes model\n",
        "\n",
        "TF-IDF also known as Term Frequency-Inverse Document Frequency is a tool used in NLP to convert text data into numerical features. It assigns importance score to words based on their frequency in a message relative to their frequency across all messages."
      ],
      "metadata": {
        "id": "zoGahGmea3x-"
      }
    },
    {
      "cell_type": "code",
      "source": [
        "# Initialize TF-IDF vectorizer\n",
        "tfidf = TfidfVectorizer()\n",
        "\n",
        "# Fit on training data and transform all sets\n",
        "x_train_tfidf = tfidf.fit_transform(x_train)\n",
        "x_val_tfidf = tfidf.transform(x_val)\n",
        "x_test_tfidf = tfidf.transform(x_test)"
      ],
      "metadata": {
        "id": "RhSBxeEEAOp8"
      },
      "execution_count": null,
      "outputs": []
    },
    {
      "cell_type": "markdown",
      "source": [
        "### 3.5.2. Preparation for Keras LSTM\n",
        "\n",
        "For LSTM, we used Keras's `Tokenizer` to convert the cleaned text messages into integer sequences, where each unique word is mapped to a unique index.\n",
        "\n",
        "All sequences were padded to a fixed length (`max_len = 100`) using Keras's `pad_sequences` function to ensure uniform input shape for the model.\n",
        "\n",
        "Finally, the padded sequences and labels were converted to NumPy arrays to prepare them for model training using Keras."
      ],
      "metadata": {
        "id": "lVgcneQgclOS"
      }
    },
    {
      "cell_type": "code",
      "source": [
        "# Initialize tokenizer and fit on training text\n",
        "lstm_tokenizer = Tokenizer()\n",
        "lstm_tokenizer.fit_on_texts(x_train)\n",
        "\n",
        "# Convert text to sequences\n",
        "x_train_seq = lstm_tokenizer.texts_to_sequences(x_train)\n",
        "x_val_seq = lstm_tokenizer.texts_to_sequences(x_val)\n",
        "x_test_seq = lstm_tokenizer.texts_to_sequences(x_test)\n",
        "\n",
        "# Pad sequences to fixed length\n",
        "max_len = 100\n",
        "x_train_pad = pad_sequences(x_train_seq, maxlen=max_len)\n",
        "x_val_pad = pad_sequences(x_val_seq, maxlen=max_len)\n",
        "x_test_pad = pad_sequences(x_test_seq, maxlen=max_len)\n",
        "\n",
        "# Convert labels to numpy arrays\n",
        "y_train_array = y_train.values\n",
        "y_val_array = y_val.values\n",
        "y_test_array = y_test.values"
      ],
      "metadata": {
        "id": "-icGlQ3Jc0SU"
      },
      "execution_count": null,
      "outputs": []
    },
    {
      "cell_type": "markdown",
      "source": [
        "### 3.5.3. Preparation for PyTorch LSTM\n",
        "\n",
        "For PyTorch LSTM, we tokenized each cleaned message using simple whitespace splitting (.split()), built a vocabulary from the training set, and added special tokens (<PAD>, <UNK>) to handle padding and unknown words.\n",
        "\n",
        "Each message was then converted into a sequence of word indices and padded to ensure uniform length. Finally, the sequences and corresponding labels were converted into PyTorch tensors to prepare them for model training."
      ],
      "metadata": {
        "id": "YnIOTS1nGTBf"
      }
    },
    {
      "cell_type": "code",
      "source": [
        "# Step 1: Build vocabulary from training set using .split() on cleaned text\n",
        "word2idx = {'<PAD>': 0, '<UNK>': 1}  # special tokens\n",
        "idx = 2\n",
        "\n",
        "for text in x_train:\n",
        "    for word in text.split():  # cleaned, preprocessed text\n",
        "        if word not in word2idx:\n",
        "            word2idx[word] = idx\n",
        "            idx += 1\n",
        "\n",
        "# Vocabulary size\n",
        "vocab_size = len(word2idx)\n",
        "print(f\"Vocabulary Size: {vocab_size}\")\n",
        "\n",
        "# Step 2: Function to convert a cleaned sentence to a sequence of word indices\n",
        "def encode(text):\n",
        "    return [word2idx.get(word, word2idx['<UNK>']) for word in text.split()]\n",
        "\n",
        "# Step 3: Encode all text datasets\n",
        "x_train_encoded = [torch.tensor(encode(text)) for text in x_train]\n",
        "x_val_encoded   = [torch.tensor(encode(text)) for text in x_val]\n",
        "x_test_encoded  = [torch.tensor(encode(text)) for text in x_test]\n",
        "\n",
        "# Step 4: Pad sequences to ensure equal length\n",
        "x_train_padded_pt = pad_sequence(x_train_encoded, batch_first=True, padding_value=word2idx['<PAD>'])\n",
        "x_val_padded_pt   = pad_sequence(x_val_encoded, batch_first=True, padding_value=word2idx['<PAD>'])\n",
        "x_test_padded_pt  = pad_sequence(x_test_encoded, batch_first=True, padding_value=word2idx['<PAD>'])\n",
        "\n",
        "# Step 5: Convert labels to PyTorch tensors\n",
        "y_train_tensor = torch.tensor(y_train.values)\n",
        "y_val_tensor   = torch.tensor(y_val.values)\n",
        "y_test_tensor  = torch.tensor(y_test.values)\n",
        "\n",
        "# Step 6: Create TensorDatasets and DataLoaders\n",
        "# TensorDatasets\n",
        "train_dataset = TensorDataset(x_train_padded_pt, y_train_tensor)\n",
        "val_dataset   = TensorDataset(x_val_padded_pt, y_val_tensor)\n",
        "test_dataset = torch.utils.data.TensorDataset(x_test_padded_pt, y_test_tensor)\n",
        "\n",
        "# DataLoaders\n",
        "train_loader = DataLoader(train_dataset, batch_size=64, shuffle=True)\n",
        "val_loader   = DataLoader(val_dataset, batch_size=64)\n",
        "test_loader   = DataLoader(test_dataset, batch_size=64)"
      ],
      "metadata": {
        "id": "ECUV1QYFGq7p",
        "colab": {
          "base_uri": "https://localhost:8080/"
        },
        "outputId": "46b5eca3-b487-4eb9-8ac9-d8ba3e63c7ae"
      },
      "execution_count": null,
      "outputs": [
        {
          "output_type": "stream",
          "name": "stdout",
          "text": [
            "Vocabulary Size: 6446\n"
          ]
        }
      ]
    },
    {
      "cell_type": "markdown",
      "source": [
        "# **4. Trainer Class**\n",
        "\n",
        "In this section, we will define custom trainer class for both the Naive Bayes and LSTM models. The purpose of it is to streamline training and evaluation."
      ],
      "metadata": {
        "id": "K9eHbnSfdknD"
      }
    },
    {
      "cell_type": "markdown",
      "source": [
        "## 4.1. Naive Bayes Trainer Class"
      ],
      "metadata": {
        "id": "aYz-KX9odnzy"
      }
    },
    {
      "cell_type": "code",
      "source": [
        "class NaiveBayesTrainer:\n",
        "  def __init__(self, model, x_train, y_train, x_val, y_val):\n",
        "    self.model = model\n",
        "    self.x_train = x_train\n",
        "    self.y_train = y_train\n",
        "    self.x_val = x_val\n",
        "    self.y_val = y_val\n",
        "\n",
        "  def train(self):\n",
        "    self.model.fit(self.x_train, self.y_train)\n",
        "    print(\"Naive Bayes model training complete.\")"
      ],
      "metadata": {
        "id": "dgIsgwRCd7yc"
      },
      "execution_count": null,
      "outputs": []
    },
    {
      "cell_type": "markdown",
      "source": [
        "## 4.2. Keras LSTM Trainer Class"
      ],
      "metadata": {
        "id": "n94t3DaSd8Ak"
      }
    },
    {
      "cell_type": "code",
      "source": [
        "class LSTMTrainer:\n",
        "  def __init__(self, x_train, y_train, x_val, y_val, vocab_size, max_len, embedding_dim, hidden_dim, num_epochs, optimizer):\n",
        "    self.x_train = x_train\n",
        "    self.y_train = y_train\n",
        "    self.x_val = x_val\n",
        "    self.y_val = y_val\n",
        "    self.vocab_size = vocab_size\n",
        "    self.max_len = max_len\n",
        "    self.embedding_dim = embedding_dim\n",
        "    self.hidden_dim = hidden_dim\n",
        "    self.num_epochs = num_epochs\n",
        "    self.optimizer = optimizer\n",
        "    self.batch_size = 64\n",
        "\n",
        "    self.model = build_lstm_model(vocab_size, embedding_dim, max_len, hidden_dim, dropout_rate=0.3)\n",
        "\n",
        "    self.model.compile(loss='binary_crossentropy', optimizer=self.optimizer, metrics=['accuracy'])\n",
        "\n",
        "  def train(self):\n",
        "    # Use EarlyStopping to avoid overfitting\n",
        "    early_stop = EarlyStopping(monitor='val_loss', patience=2, restore_best_weights=True)\n",
        "\n",
        "    # Train model and store training history\n",
        "    self.history = self.model.fit(\n",
        "        self.x_train, self.y_train,\n",
        "        validation_data = (self.x_val, self.y_val),\n",
        "        epochs = self.num_epochs,\n",
        "        batch_size = self.batch_size,\n",
        "        callbacks=[early_stop],\n",
        "        verbose=1\n",
        "    )\n",
        "\n",
        "  def plot_training_curves(self):\n",
        "    history = self.history.history\n",
        "\n",
        "    plt.figure(figsize=(12, 5))\n",
        "\n",
        "    # Plot Loss\n",
        "    plt.subplot(1, 2, 1)\n",
        "    plt.plot(history['loss'], label='Train Loss')\n",
        "    plt.plot(history['val_loss'], label='Validation Loss')\n",
        "    plt.title('Loss over Epochs')\n",
        "    plt.xlabel('Epoch')\n",
        "    plt.ylabel('Loss')\n",
        "    plt.legend()\n",
        "\n",
        "    # Plot Accuracy\n",
        "    plt.subplot(1, 2, 2)\n",
        "    plt.plot(history['accuracy'], label='Train Accuracy')\n",
        "    plt.plot(history['val_accuracy'], label='Validation Accuracy')\n",
        "    plt.title('Accuracy over Epochs')\n",
        "    plt.xlabel('Epoch')\n",
        "    plt.ylabel('Accuracy')\n",
        "    plt.legend()\n",
        "\n",
        "    plt.tight_layout()\n",
        "    plt.show()"
      ],
      "metadata": {
        "id": "CPYY3OXcd-6k"
      },
      "execution_count": null,
      "outputs": []
    },
    {
      "cell_type": "markdown",
      "source": [
        "## 4.3. PyTorch LSTM Trainer Class"
      ],
      "metadata": {
        "id": "isr2Hd9pHNEl"
      }
    },
    {
      "cell_type": "code",
      "source": [
        "class PyTorchLSTMTrainer():\n",
        "  def __init__(self, model, device, train_data, val_data, num_epochs, optimizer, criterion=None):\n",
        "    self.model = model\n",
        "    self.device = device\n",
        "    self.train_data = train_data\n",
        "    self.val_data = val_data\n",
        "    self.num_epochs = num_epochs\n",
        "    self.optimizer = optimizer\n",
        "    self.criterion = criterion if criterion is not None else nn.BCELoss()\n",
        "    self.model.to(self.device)\n",
        "\n",
        "  def train(self):\n",
        "    for epoch in range(self.num_epochs):\n",
        "      self.model.train()\n",
        "      total_train_loss, correct_train, total_train = 0, 0, 0\n",
        "\n",
        "      for inputs, labels in self.train_data:\n",
        "        inputs, labels = inputs.to(self.device), labels.to(self.device).float()\n",
        "\n",
        "        outputs = self.model(inputs).squeeze()\n",
        "        loss = self.criterion(outputs, labels)\n",
        "\n",
        "        self.optimizer.zero_grad()\n",
        "        loss.backward()\n",
        "        self.optimizer.step()\n",
        "\n",
        "        total_train_loss += loss.item()\n",
        "        predicted = (outputs > 0.5).int()\n",
        "        correct_train += (predicted == labels.int()).sum().item()\n",
        "        total_train += labels.size(0)\n",
        "\n",
        "      train_loss = total_train_loss / len(self.train_data)\n",
        "      train_accuracy = 100 * correct_train / total_train\n",
        "\n",
        "      val_loss, val_accuracy = self.validate()\n",
        "      print(f'Epoch [{epoch+1}/{self.num_epochs}], Train Loss: {train_loss:.4f}, Train Acc: {train_accuracy:.2f}%, 'f'Val Loss: {val_loss:.4f}, Val Acc: {val_accuracy:.2f}%')\n",
        "\n",
        "  def validate(self):\n",
        "    self.model.eval()\n",
        "    total_val_loss, correct_val, total_val = 0, 0, 0\n",
        "\n",
        "    with torch.no_grad():\n",
        "      for inputs, labels in self.val_data:\n",
        "        inputs, labels = inputs.to(self.device), labels.to(self.device).float()\n",
        "\n",
        "        outputs = self.model(inputs).squeeze()\n",
        "        loss = self.criterion(outputs, labels)\n",
        "\n",
        "        total_val_loss += loss.item()\n",
        "        predicted = (outputs > 0.5).int()\n",
        "        correct_val += (predicted == labels.int()).sum().item()\n",
        "        total_val += labels.size(0)\n",
        "\n",
        "    val_loss = total_val_loss / len(self.val_data)\n",
        "    val_accuracy = 100 * correct_val / total_val\n",
        "\n",
        "    return val_loss, val_accuracy"
      ],
      "metadata": {
        "id": "qPpFoNc-HRgd"
      },
      "execution_count": null,
      "outputs": []
    },
    {
      "cell_type": "markdown",
      "source": [
        "# **5. Metrics Class**\n",
        "\n",
        "This section introduces a shared **Metrics** class that is usable for both the Naive Bayes and LSTM models. Since the methods inside the class does not rely on instance-specific data such as `self`, they are defined as **static methods** using the `@staticmethod` decorator. This allows them to be called directly using the class name without creating an instance of the class."
      ],
      "metadata": {
        "id": "8rUURnp3d_Wt"
      }
    },
    {
      "cell_type": "code",
      "source": [
        "class Metrics():\n",
        "  @staticmethod\n",
        "  def evaluate(y_true, y_pred):\n",
        "    accuracy = accuracy_score(y_true, y_pred)\n",
        "    precision = precision_score(y_true, y_pred)\n",
        "    conf_matrix = confusion_matrix(y_true, y_pred)\n",
        "    report = classification_report(y_true, y_pred, target_names=[\"Ham\", \"Spam\"])\n",
        "\n",
        "    return accuracy, precision, conf_matrix, report\n",
        "\n",
        "  @staticmethod\n",
        "  def plot_confusion_matrix(conf_matrix, labels=[\"Ham\", \"Spam\"]):\n",
        "    plt.figure(figsize=(8, 6))\n",
        "    sns.heatmap(conf_matrix, annot=True, fmt='d', cmap='Blues', xticklabels=labels, yticklabels=labels)\n",
        "    plt.xlabel('Predicted')\n",
        "    plt.ylabel('True')\n",
        "    plt.title('Confusion Matrix')\n",
        "    plt.show()"
      ],
      "metadata": {
        "id": "x5vXyWaLeKT3"
      },
      "execution_count": null,
      "outputs": []
    },
    {
      "cell_type": "markdown",
      "source": [
        "# **6. Models**\n",
        "\n",
        "This section presents the actual implementation, tuning, and evaluation of three machine learning models."
      ],
      "metadata": {
        "id": "ZNuvt-tCvybc"
      }
    },
    {
      "cell_type": "markdown",
      "source": [
        "## 6.1. Naive Bayes Model\n",
        "\n",
        "The Naive Bayes algorithm is a probabilistic classifier based on the Bayes' Theorem with an assumption of feature independence to calculate the probability of a data point belonging to a specific class. It is widely used in text classification due to its simplicity, efficiency and good performance.\n",
        "\n",
        "There are three types of Naive Bayes Classifier:\n",
        "- GaussianNB: It assumes that features are normally distributed.\n",
        "- BernoulliNB: It is normally used for binary or boolean features.\n",
        "- MultinomialNB: Designed for discrete features such as word counts or TF-IDF scores in text data.\n",
        "\n",
        "MultinomialNB will be used since our SMS data has been vectorized using the TF-IDF feature. We will manually tune the **alpha** parameter (Laplace Smoothing) with different values to handle unseen words and avoid zero probability errors.\n",
        "\n",
        "Since it is a non-parametric probabilistic model, the Naive Bayes classifier does not have a model architecture in the form of layers or weights typically seen in deep learning models."
      ],
      "metadata": {
        "id": "zr31IRXxv759"
      }
    },
    {
      "cell_type": "markdown",
      "source": [
        "### 6.1.1. Naive Bayes Classifier"
      ],
      "metadata": {
        "id": "C8dIsCzkwJxX"
      }
    },
    {
      "cell_type": "code",
      "source": [
        "# Initialize Naive Bayes model\n",
        "nb_model = MultinomialNB()"
      ],
      "metadata": {
        "id": "Bgl1Gu5FwQS3"
      },
      "execution_count": null,
      "outputs": []
    },
    {
      "cell_type": "markdown",
      "source": [
        "### 6.1.2. Tuning Hyper Parameters"
      ],
      "metadata": {
        "id": "PO89MVZuwY2p"
      }
    },
    {
      "cell_type": "code",
      "source": [
        "# Set Hyperparameter\n",
        "alpha_value = 0.5\n",
        "nb_model = MultinomialNB(alpha=alpha_value)\n",
        "\n",
        "# Training\n",
        "nb_trainer = NaiveBayesTrainer(nb_model, x_train_tfidf, y_train, x_val_tfidf, y_val)\n",
        "nb_trainer.train()\n",
        "\n",
        "# Evaluation\n",
        "preds = nb_model.predict(x_val_tfidf)\n",
        "accuracy, precision, conf_matrix, class_report = Metrics.evaluate(y_val, preds)\n",
        "\n",
        "print(f\"Alpha = {alpha_value}\")\n",
        "print(f\"Accuracy: {accuracy:.4f}, Precision: {precision:.4f}\")"
      ],
      "metadata": {
        "id": "n0zJ1opGwhrB",
        "colab": {
          "base_uri": "https://localhost:8080/"
        },
        "outputId": "ceb7deee-1742-4f4f-d1db-a2409ca0a780"
      },
      "execution_count": null,
      "outputs": [
        {
          "output_type": "stream",
          "name": "stdout",
          "text": [
            "Naive Bayes model training complete.\n",
            "Alpha = 0.5\n",
            "Accuracy: 0.9642, Precision: 0.9896\n"
          ]
        }
      ]
    },
    {
      "cell_type": "markdown",
      "source": [
        "To find the optimal smoothing value **alpha** for the Naive Bayes model, we manually test different values and compare their performance using accuracy and precision.\n",
        "\n",
        "The following alpha values will be used:\n",
        "```\n",
        "alpha: [0.1, 0.5, 1.0, 1.5, 2.0]\n",
        "```\n",
        "\n",
        "* **Run 1: alpha = 0.1**\n",
        "```\n",
        "Naive Bayes model training complete.\n",
        "Alpha = 0.1\n",
        "Accuracy: 0.9720, Precision: 0.9554\n",
        "```\n",
        "\n",
        "* **Run 2: alpha = 0.5**\n",
        "```\n",
        "Naive Bayes model training complete.\n",
        "Alpha = 0.5\n",
        "Accuracy: 0.9642, Precision: 0.9896\n",
        "```\n",
        "\n",
        "* **Run 3: alpha = 1.0**\n",
        "```\n",
        "Naive Bayes model training complete.\n",
        "Alpha = 1.0\n",
        "Accuracy: 0.9507, Precision: 0.9878\n",
        "```\n",
        "\n",
        "* **Run 4: alpha = 1.5**\n",
        "```\n",
        "Naive Bayes model training complete.\n",
        "Alpha = 1.5\n",
        "Accuracy: 0.9381, Precision: 1.0000\n",
        "```\n",
        "\n",
        "* **Run 5: alpha = 2.0**\n",
        "```\n",
        "Naive Bayes model training complete.\n",
        "Alpha = 2.0\n",
        "Accuracy: 0.9246, Precision: 1.0000\n",
        "```\n",
        "\n",
        "After testing with multiple different alpha values, the most balanced performance was observed in **Run 2 (alpha = 0.5)**, which achieved:\n",
        "```\n",
        "Accuracy: 0.9642\n",
        "Precision: 0.9896\n",
        "```\n",
        "Although **Run 4 & 5** resulted in perfect precision, they have a significantly low accuracy. It indicates that too much smoothing causes underfitting.\n",
        "Even though **Run 1** had a slightly higher accuracy than **Run 2**, **Run 2** offered a significantly higher precision. Therefore, **Run 2** was chosen as the optimal value for final testing."
      ],
      "metadata": {
        "id": "ARtgS59ZLByY"
      }
    },
    {
      "cell_type": "markdown",
      "source": [
        "### 6.1.3. Display Classification Report & Plotting of Confusion Matrix"
      ],
      "metadata": {
        "id": "iSQFCsMdwiHZ"
      }
    },
    {
      "cell_type": "code",
      "source": [
        "print(class_report)\n",
        "Metrics.plot_confusion_matrix(conf_matrix)"
      ],
      "metadata": {
        "id": "CqpEQe_TwqMy",
        "colab": {
          "base_uri": "https://localhost:8080/",
          "height": 720
        },
        "outputId": "6fb3502c-6373-4e82-a01e-44f4d80ba589"
      },
      "execution_count": null,
      "outputs": [
        {
          "output_type": "stream",
          "name": "stdout",
          "text": [
            "              precision    recall  f1-score   support\n",
            "\n",
            "         Ham       0.96      1.00      0.98       903\n",
            "        Spam       0.99      0.73      0.84       131\n",
            "\n",
            "    accuracy                           0.96      1034\n",
            "   macro avg       0.98      0.86      0.91      1034\n",
            "weighted avg       0.97      0.96      0.96      1034\n",
            "\n"
          ]
        },
        {
          "output_type": "display_data",
          "data": {
            "text/plain": [
              "<Figure size 800x600 with 2 Axes>"
            ],
            "image/png": "[encoded data removed]"
          },
          "metadata": {}
        }
      ]
    },
    {
      "cell_type": "markdown",
      "source": [
        "### 6.1.4. Checking against Validation data"
      ],
      "metadata": {
        "id": "jELr1GBAwqh0"
      }
    },
    {
      "cell_type": "code",
      "source": [
        "# Select 10 random sample\n",
        "samples = random.sample(list(zip(x_val, y_val, preds)), 10)\n",
        "\n",
        "print(\"### Naive Bayes Predictions vs Ground Truth (Validation Set) ###\\n\")\n",
        "for i, (msg, true_label, pred_label) in enumerate(samples):\n",
        "    gt = \"Spam\" if true_label == 1 else \"Ham\"\n",
        "    pred = \"Spam\" if pred_label == 1 else \"Ham\"\n",
        "    print(f\"[{i+1}] Message: \\\"{msg[:60]}...\\\"\")\n",
        "    print(f\"     Ground Truth: {gt} | Predicted: {pred}\\n\")"
      ],
      "metadata": {
        "id": "ynzGtnmGwuy7",
        "colab": {
          "base_uri": "https://localhost:8080/"
        },
        "outputId": "8a962b6b-f18d-43dd-98d3-2cba1b11002c"
      },
      "execution_count": null,
      "outputs": [
        {
          "output_type": "stream",
          "name": "stdout",
          "text": [
            "### Naive Bayes Predictions vs Ground Truth (Validation Set) ###\n",
            "\n",
            "[1] Message: \"wn u r hurt prsn close 2 u fight wit dem coz somtim di fight...\"\n",
            "     Ground Truth: Ham | Predicted: Ham\n",
            "\n",
            "[2] Message: \"aight text tonight well see what...\"\n",
            "     Ground Truth: Ham | Predicted: Ham\n",
            "\n",
            "[3] Message: \"text pass 69669 collect polyphon rington normal gpr charg ap...\"\n",
            "     Ground Truth: Spam | Predicted: Spam\n",
            "\n",
            "[4] Message: \"beauti tomorrow never come come alreadi today hunt beauti to...\"\n",
            "     Ground Truth: Ham | Predicted: Ham\n",
            "\n",
            "[5] Message: \"ask 3mobil 0870 chatlin inclu free min india cust serv sed y...\"\n",
            "     Ground Truth: Spam | Predicted: Ham\n",
            "\n",
            "[6] Message: \"cant make tonight...\"\n",
            "     Ground Truth: Ham | Predicted: Ham\n",
            "\n",
            "[7] Message: \"worri hope photo shoot went well spif fun workag...\"\n",
            "     Ground Truth: Ham | Predicted: Ham\n",
            "\n",
            "[8] Message: \"great hope like man well endow ltgt inch...\"\n",
            "     Ground Truth: Ham | Predicted: Ham\n",
            "\n",
            "[9] Message: \"fishrman woke earli mrng dark wait amp found sack ful stone ...\"\n",
            "     Ground Truth: Ham | Predicted: Ham\n",
            "\n",
            "[10] Message: \"theyr lot place hospit medic place safe...\"\n",
            "     Ground Truth: Ham | Predicted: Ham\n",
            "\n"
          ]
        }
      ]
    },
    {
      "cell_type": "markdown",
      "source": [
        "### 6.1.5. Prediction Distribution and Accuracy breakdown\n",
        "\n",
        "Since Naive Bayes is non-iterative, tensorboard and training curves are not meaningful. Instead, I will show a chart representing prediction distribution and correctness."
      ],
      "metadata": {
        "id": "3m1rdiAZwvCD"
      }
    },
    {
      "cell_type": "code",
      "source": [
        "# Get prediction distribution\n",
        "unique, counts = np.unique(preds, return_counts=True)\n",
        "pred_dist = dict(zip([\"Ham\", \"Spam\"], counts))\n",
        "\n",
        "# Ground truth vs predicted comparison\n",
        "correct = (preds == y_val).sum()\n",
        "incorrect = len(preds) - correct\n",
        "\n",
        "# Plot 1: Prediction distribution\n",
        "plt.figure(figsize=(10, 4))\n",
        "plt.subplot(1, 2, 1)\n",
        "plt.bar(pred_dist.keys(), pred_dist.values(), color=['skyblue', 'salmon'])\n",
        "plt.title(\"Naive Bayes Predictions per Class\")\n",
        "plt.ylabel(\"Count\")\n",
        "\n",
        "# Plot 2: Accuracy breakdown\n",
        "plt.subplot(1, 2, 2)\n",
        "plt.bar([\"Correct\", \"Incorrect\"], [correct, incorrect], color=['green', 'red'])\n",
        "plt.title(\"Correct vs Incorrect Predictions\")\n",
        "plt.ylabel(\"Count\")\n",
        "\n",
        "plt.tight_layout()\n",
        "plt.show()"
      ],
      "metadata": {
        "id": "BgKcrCumw5Hk",
        "colab": {
          "base_uri": "https://localhost:8080/",
          "height": 407
        },
        "outputId": "6b7cf529-cd43-49be-ab6c-9b1eb4c2d215"
      },
      "execution_count": null,
      "outputs": [
        {
          "output_type": "display_data",
          "data": {
            "text/plain": [
              "<Figure size 1000x400 with 2 Axes>"
            ],
            "image/png": "[encoded data removed]"
          },
          "metadata": {}
        }
      ]
    },
    {
      "cell_type": "markdown",
      "source": [
        "## 6.2. Keras LSTM Model\n",
        "\n",
        "Long Short-Term Memory (LSTM) networks are a special type of recurrent neural network (RNN) capable of learning long-term dependencies, which is highly useful in sequential tasks like text classification.\n",
        "\n",
        "In this project, we use the Keras API to build and train an LSTM model for SMS spam detection. Keras provides a high-level, easy-to-use interface that supports modular layers, automatic batching, and convenient training utilities.\n",
        "\n",
        "The key steps include:\n",
        "- Tokenizing and padding messages into uniform-length sequences.\n",
        "- Using an `Embedding` layer to represent words in dense vector space.\n",
        "- Stacking an `LSTM` layer followed by a `Dropout` layer to prevent overfitting.\n",
        "- Using a `Dense` output layer with sigmoid activation for binary classification.\n",
        "\n",
        "Keras also supports tools like `EarlyStopping` to prevent overtraining, and `plot_model()` for architecture visualization.\n"
      ],
      "metadata": {
        "id": "g_ZiqTwcw8SU"
      }
    },
    {
      "cell_type": "markdown",
      "source": [
        "### 6.2.1. Keras LSTM Classifier"
      ],
      "metadata": {
        "id": "lT-eqx9ew_dV"
      }
    },
    {
      "cell_type": "code",
      "source": [
        "# Calculate vocab size after tokenizer is fit in preprocessing\n",
        "vocab_size = len(lstm_tokenizer.word_index) + 1\n",
        "\n",
        "def build_lstm_model(vocab_size, embedding_dim, max_len, hidden_dim, dropout_rate=0.2):\n",
        "    model = Sequential([\n",
        "        Embedding(input_dim=vocab_size, output_dim=embedding_dim, input_length=max_len),\n",
        "        LSTM(hidden_dim),\n",
        "        Dropout(dropout_rate),\n",
        "        Dense(1, activation='sigmoid')\n",
        "    ])\n",
        "    return model"
      ],
      "metadata": {
        "id": "PNgh-f9uxDSV"
      },
      "execution_count": null,
      "outputs": []
    },
    {
      "cell_type": "markdown",
      "source": [
        "### 6.2.2. Display of Model Architecture"
      ],
      "metadata": {
        "id": "ogSfYr9_BfJZ"
      }
    },
    {
      "cell_type": "code",
      "source": [
        "# Set architecture hyperparameters (reuse those used for training)\n",
        "embedding_dim = 128\n",
        "hidden_dim = 128\n",
        "max_len = 100\n",
        "\n",
        "# Define the model structure (no training yet)\n",
        "temp_model = build_lstm_model(vocab_size, embedding_dim, max_len, hidden_dim, dropout_rate=0.5)\n",
        "\n",
        "# Build the model explicitly so plot_model can read the structure\n",
        "temp_model.build(input_shape=(None, max_len))\n",
        "\n",
        "# Visualize the model\n",
        "plot_model(temp_model, to_file='lstm_model.png', show_shapes=True, show_layer_names=True, dpi=80)\n",
        "Image('lstm_model.png')"
      ],
      "metadata": {
        "colab": {
          "base_uri": "https://localhost:8080/",
          "height": 519
        },
        "id": "6GQ_qgBmCbPo",
        "outputId": "c0ac24e9-a78e-411e-eb88-31427630522a"
      },
      "execution_count": null,
      "outputs": [
        {
          "output_type": "execute_result",
          "data": {
            "image/png": "[encoded data removed]",
            "text/plain": [
              "<IPython.core.display.Image object>"
            ]
          },
          "metadata": {},
          "execution_count": 23
        }
      ]
    },
    {
      "cell_type": "markdown",
      "source": [
        "### 6.2.3. Tuning of Hyperparameters"
      ],
      "metadata": {
        "id": "xJswaj18CboX"
      }
    },
    {
      "cell_type": "code",
      "source": [
        "# Set hyperparameters\n",
        "lstm_lr = 0.001\n",
        "embedding_dim = 128\n",
        "hidden_dim = 128\n",
        "\n",
        "# Fixed Hyperparameters\n",
        "lstm_epochs = 8\n",
        "max_len = 100\n",
        "\n",
        "# Optimizer\n",
        "lstm_optimizer = Adam(learning_rate=lstm_lr)\n",
        "\n",
        "lstm_trainer = LSTMTrainer(x_train_pad, y_train_array, x_val_pad, y_val_array, vocab_size, max_len, embedding_dim, hidden_dim, lstm_epochs, lstm_optimizer)\n",
        "lstm_trainer.train()"
      ],
      "metadata": {
        "id": "vMjfOwCACi5Z",
        "colab": {
          "base_uri": "https://localhost:8080/"
        },
        "outputId": "b21d0652-0ab1-4cf3-87f9-1b2da3e4d905"
      },
      "execution_count": null,
      "outputs": [
        {
          "output_type": "stream",
          "name": "stdout",
          "text": [
            "Epoch 1/8\n",
            "\u001b[1m57/57\u001b[0m \u001b[32m━━━━━━━━━━━━━━━━━━━━\u001b[0m\u001b[37m\u001b[0m \u001b[1m3s\u001b[0m 18ms/step - accuracy: 0.8791 - loss: 0.3527 - val_accuracy: 0.9574 - val_loss: 0.1449\n",
            "Epoch 2/8\n",
            "\u001b[1m57/57\u001b[0m \u001b[32m━━━━━━━━━━━━━━━━━━━━\u001b[0m\u001b[37m\u001b[0m \u001b[1m1s\u001b[0m 10ms/step - accuracy: 0.9836 - loss: 0.0665 - val_accuracy: 0.9739 - val_loss: 0.0865\n",
            "Epoch 3/8\n",
            "\u001b[1m57/57\u001b[0m \u001b[32m━━━━━━━━━━━━━━━━━━━━\u001b[0m\u001b[37m\u001b[0m \u001b[1m1s\u001b[0m 11ms/step - accuracy: 0.9938 - loss: 0.0316 - val_accuracy: 0.9749 - val_loss: 0.0991\n",
            "Epoch 4/8\n",
            "\u001b[1m57/57\u001b[0m \u001b[32m━━━━━━━━━━━━━━━━━━━━\u001b[0m\u001b[37m\u001b[0m \u001b[1m1s\u001b[0m 10ms/step - accuracy: 0.9971 - loss: 0.0123 - val_accuracy: 0.9787 - val_loss: 0.0866\n"
          ]
        }
      ]
    },
    {
      "cell_type": "markdown",
      "source": [
        "To find the optimal combination for the best result, we will use different combination of values to fine tune the model.\n",
        "The following combination of values will be used:\n",
        "```\n",
        "learning_rate: [0.01, 0.001, 0.0001]\n",
        "embedding_dim: [64, 128]\n",
        "hidden_dim: [128, 256]\n",
        "```\n",
        "The value for epochs and max_len will remain the same with it being:\n",
        "```\n",
        "lstm_epochs: 5\n",
        "max_len: 100\n",
        "```\n",
        "Epoch value is set at 8 to give early stopping more room.\n",
        "*   **1st Run**\n",
        "\n",
        "We will use the following combination for the first run:\n",
        "```\n",
        "Learning rate: 0.01\n",
        "embedding_dim: 64\n",
        "hidden_dim: 128\n",
        "\n",
        "Epoch 1/8\n",
        "57/57 ━━━━━━━━━━━━━━━━━━━━ 3s 16ms/step - accuracy: 0.8748 - loss: 0.3457 - val_accuracy: 0.9797 - val_loss: 0.0779\n",
        "Epoch 2/8\n",
        "57/57 ━━━━━━━━━━━━━━━━━━━━ 1s 10ms/step - accuracy: 0.9895 - loss: 0.0329 - val_accuracy: 0.9768 - val_loss: 0.0867\n",
        "Epoch 3/8\n",
        "57/57 ━━━━━━━━━━━━━━━━━━━━ 1s 9ms/step - accuracy: 0.9982 - loss: 0.0051 - val_accuracy: 0.9797 - val_loss: 0.1033\n",
        "```\n",
        "*   **2nd Run**\n",
        "\n",
        "We will use the following combination for the second run:\n",
        "```\n",
        "Learning rate: 0.01\n",
        "embedding_dim: 64\n",
        "hidden_dim: 256\n",
        "\n",
        "Epoch 1/8\n",
        "57/57 ━━━━━━━━━━━━━━━━━━━━ 4s 20ms/step - accuracy: 0.8409 - loss: 0.4238 - val_accuracy: 0.9632 - val_loss: 0.1216\n",
        "Epoch 2/8\n",
        "57/57 ━━━━━━━━━━━━━━━━━━━━ 1s 12ms/step - accuracy: 0.9765 - loss: 0.0826 - val_accuracy: 0.9642 - val_loss: 0.1369\n",
        "Epoch 3/8\n",
        "57/57 ━━━━━━━━━━━━━━━━━━━━ 1s 14ms/step - accuracy: 0.9824 - loss: 0.0453 - val_accuracy: 0.9710 - val_loss: 0.1002\n",
        "Epoch 4/8\n",
        "57/57 ━━━━━━━━━━━━━━━━━━━━ 1s 16ms/step - accuracy: 0.9943 - loss: 0.0181 - val_accuracy: 0.9749 - val_loss: 0.1040\n",
        "Epoch 5/8\n",
        "57/57 ━━━━━━━━━━━━━━━━━━━━ 1s 12ms/step - accuracy: 0.9973 - loss: 0.0072 - val_accuracy: 0.9749 - val_loss: 0.1102\n",
        "```\n",
        "*   **3rd Run**\n",
        "\n",
        "We will use the following combination for the third run:\n",
        "```\n",
        "Learning rate: 0.01\n",
        "embedding_dim: 128\n",
        "hidden_dim: 128\n",
        "\n",
        "Epoch 1/8\n",
        "57/57 ━━━━━━━━━━━━━━━━━━━━ 3s 18ms/step - accuracy: 0.8734 - loss: 0.2377 - val_accuracy: 0.9710 - val_loss: 0.0950\n",
        "Epoch 2/8\n",
        "57/57 ━━━━━━━━━━━━━━━━━━━━ 1s 11ms/step - accuracy: 0.9953 - loss: 0.0185 - val_accuracy: 0.9749 - val_loss: 0.1077\n",
        "Epoch 3/8\n",
        "57/57 ━━━━━━━━━━━━━━━━━━━━ 1s 12ms/step - accuracy: 0.9989 - loss: 0.0034 - val_accuracy: 0.9787 - val_loss: 0.0929\n",
        "Epoch 4/8\n",
        "57/57 ━━━━━━━━━━━━━━━━━━━━ 1s 14ms/step - accuracy: 0.9998 - loss: 6.3161e-04 - val_accuracy: 0.9807 - val_loss: 0.1103\n",
        "Epoch 5/8\n",
        "57/57 ━━━━━━━━━━━━━━━━━━━━ 1s 16ms/step - accuracy: 1.0000 - loss: 1.3188e-04 - val_accuracy: 0.9758 - val_loss: 0.1339\n",
        "```\n",
        "*   **4th Run**\n",
        "\n",
        "We will use the following combination for the fourth run:\n",
        "```\n",
        "Learning rate: 0.01\n",
        "embedding_dim: 128\n",
        "hidden_dim: 256\n",
        "\n",
        "Epoch 1/8\n",
        "57/57 ━━━━━━━━━━━━━━━━━━━━ 3s 20ms/step - accuracy: 0.8577 - loss: 0.4172 - val_accuracy: 0.9739 - val_loss: 0.1045\n",
        "Epoch 2/8\n",
        "57/57 ━━━━━━━━━━━━━━━━━━━━ 1s 13ms/step - accuracy: 0.9909 - loss: 0.0350 - val_accuracy: 0.9700 - val_loss: 0.1123\n",
        "Epoch 3/8\n",
        "57/57 ━━━━━━━━━━━━━━━━━━━━ 1s 14ms/step - accuracy: 0.9977 - loss: 0.0092 - val_accuracy: 0.9739 - val_loss: 0.1174\n",
        "```\n",
        "*   **5th Run**\n",
        "\n",
        "We will use the following combination for the fifth run:\n",
        "```\n",
        "Learning rate: 0.001\n",
        "embedding_dim: 64\n",
        "hidden_dim: 128\n",
        "\n",
        "Epoch 1/8\n",
        "57/57 ━━━━━━━━━━━━━━━━━━━━ 3s 18ms/step - accuracy: 0.8541 - loss: 0.3866 - val_accuracy: 0.9497 - val_loss: 0.1736\n",
        "Epoch 2/8\n",
        "57/57 ━━━━━━━━━━━━━━━━━━━━ 1s 10ms/step - accuracy: 0.9750 - loss: 0.1098 - val_accuracy: 0.9700 - val_loss: 0.1134\n",
        "Epoch 3/8\n",
        "57/57 ━━━━━━━━━━━━━━━━━━━━ 1s 10ms/step - accuracy: 0.9899 - loss: 0.0396 - val_accuracy: 0.9710 - val_loss: 0.1121\n",
        "Epoch 4/8\n",
        "57/57 ━━━━━━━━━━━━━━━━━━━━ 1s 10ms/step - accuracy: 0.9953 - loss: 0.0160 - val_accuracy: 0.9729 - val_loss: 0.0974\n",
        "Epoch 5/8\n",
        "57/57 ━━━━━━━━━━━━━━━━━━━━ 1s 10ms/step - accuracy: 0.9981 - loss: 0.0084 - val_accuracy: 0.9729 - val_loss: 0.0985\n",
        "Epoch 6/8\n",
        "57/57 ━━━━━━━━━━━━━━━━━━━━ 1s 10ms/step - accuracy: 0.9980 - loss: 0.0071 - val_accuracy: 0.9749 - val_loss: 0.1037\n",
        "```\n",
        "*   **6th Run**\n",
        "\n",
        "We will use the following combination for the sixth run:\n",
        "```\n",
        "Learning rate: 0.001\n",
        "embedding_dim: 64\n",
        "hidden_dim: 256\n",
        "\n",
        "Epoch 1/8\n",
        "57/57 ━━━━━━━━━━━━━━━━━━━━ 3s 19ms/step - accuracy: 0.8498 - loss: 0.4163 - val_accuracy: 0.9516 - val_loss: 0.1685\n",
        "Epoch 2/8\n",
        "57/57 ━━━━━━━━━━━━━━━━━━━━ 1s 13ms/step - accuracy: 0.9720 - loss: 0.1003 - val_accuracy: 0.9691 - val_loss: 0.1030\n",
        "Epoch 3/8\n",
        "57/57 ━━━━━━━━━━━━━━━━━━━━ 1s 14ms/step - accuracy: 0.9929 - loss: 0.0306 - val_accuracy: 0.9691 - val_loss: 0.1032\n",
        "Epoch 4/8\n",
        "57/57 ━━━━━━━━━━━━━━━━━━━━ 1s 16ms/step - accuracy: 0.9949 - loss: 0.0220 - val_accuracy: 0.9700 - val_loss: 0.1255\n",
        "```\n",
        "*   **7th Run**\n",
        "\n",
        "We will use the following combination for the seventh run:\n",
        "```\n",
        "Learning rate: 0.001\n",
        "embedding_dim: 128\n",
        "hidden_dim: 128\n",
        "\n",
        "Epoch 1/8\n",
        "57/57 ━━━━━━━━━━━━━━━━━━━━ 3s 17ms/step - accuracy: 0.8467 - loss: 0.3762 - val_accuracy: 0.9603 - val_loss: 0.1459\n",
        "Epoch 2/8\n",
        "57/57 ━━━━━━━━━━━━━━━━━━━━ 1s 11ms/step - accuracy: 0.9800 - loss: 0.0717 - val_accuracy: 0.9710 - val_loss: 0.1001\n",
        "Epoch 3/8\n",
        "57/57 ━━━━━━━━━━━━━━━━━━━━ 1s 10ms/step - accuracy: 0.9911 - loss: 0.0288 - val_accuracy: 0.9778 - val_loss: 0.0825\n",
        "Epoch 4/8\n",
        "57/57 ━━━━━━━━━━━━━━━━━━━━ 1s 11ms/step - accuracy: 0.9979 - loss: 0.0101 - val_accuracy: 0.9768 - val_loss: 0.1015\n",
        "Epoch 5/8\n",
        "57/57 ━━━━━━━━━━━━━━━━━━━━ 1s 14ms/step - accuracy: 0.9998 - loss: 0.0029 - val_accuracy: 0.9787 - val_loss: 0.0819\n",
        "Epoch 6/8\n",
        "57/57 ━━━━━━━━━━━━━━━━━━━━ 1s 14ms/step - accuracy: 0.9983 - loss: 0.0047 - val_accuracy: 0.9768 - val_loss: 0.0961\n",
        "Epoch 7/8\n",
        "57/57 ━━━━━━━━━━━━━━━━━━━━ 1s 13ms/step - accuracy: 0.9998 - loss: 9.7666e-04 - val_accuracy: 0.9797 - val_loss: 0.1090\n",
        "```\n",
        "*   **8th Run**\n",
        "\n",
        "We will use the following combination for the eigth run:\n",
        "```\n",
        "Learning rate: 0.001\n",
        "embedding_dim: 128\n",
        "hidden_dim: 256\n",
        "\n",
        "Epoch 1/8\n",
        "57/57 ━━━━━━━━━━━━━━━━━━━━ 3s 20ms/step - accuracy: 0.8795 - loss: 0.3420 - val_accuracy: 0.9652 - val_loss: 0.1257\n",
        "Epoch 2/8\n",
        "57/57 ━━━━━━━━━━━━━━━━━━━━ 1s 14ms/step - accuracy: 0.9843 - loss: 0.0566 - val_accuracy: 0.9700 - val_loss: 0.1091\n",
        "Epoch 3/8\n",
        "57/57 ━━━━━━━━━━━━━━━━━━━━ 1s 14ms/step - accuracy: 0.9935 - loss: 0.0269 - val_accuracy: 0.9739 - val_loss: 0.0777\n",
        "Epoch 4/8\n",
        "57/57 ━━━━━━━━━━━━━━━━━━━━ 1s 14ms/step - accuracy: 0.9960 - loss: 0.0149 - val_accuracy: 0.9739 - val_loss: 0.0915\n",
        "Epoch 5/8\n",
        "57/57 ━━━━━━━━━━━━━━━━━━━━ 1s 14ms/step - accuracy: 0.9991 - loss: 0.0053 - val_accuracy: 0.9749 - val_loss: 0.0986\n",
        "```\n",
        "*   **9th Run**\n",
        "\n",
        "We will use the following combination for the ninth run:\n",
        "```\n",
        "Learning rate: 0.0001\n",
        "embedding_dim: 64\n",
        "hidden_dim: 128\n",
        "\n",
        "Epoch 1/8\n",
        "57/57 ━━━━━━━━━━━━━━━━━━━━ 3s 17ms/step - accuracy: 0.7925 - loss: 0.6371 - val_accuracy: 0.8733 - val_loss: 0.3320\n",
        "Epoch 2/8\n",
        "57/57 ━━━━━━━━━━━━━━━━━━━━ 1s 10ms/step - accuracy: 0.8784 - loss: 0.2913 - val_accuracy: 0.8733 - val_loss: 0.2910\n",
        "Epoch 3/8\n",
        "57/57 ━━━━━━━━━━━━━━━━━━━━ 1s 10ms/step - accuracy: 0.8803 - loss: 0.2563 - val_accuracy: 0.8839 - val_loss: 0.2962\n",
        "Epoch 4/8\n",
        "57/57 ━━━━━━━━━━━━━━━━━━━━ 1s 11ms/step - accuracy: 0.9087 - loss: 0.2468 - val_accuracy: 0.9023 - val_loss: 0.2642\n",
        "Epoch 5/8\n",
        "57/57 ━━━━━━━━━━━━━━━━━━━━ 1s 10ms/step - accuracy: 0.9321 - loss: 0.2134 - val_accuracy: 0.9159 - val_loss: 0.2441\n",
        "Epoch 6/8\n",
        "57/57 ━━━━━━━━━━━━━━━━━━━━ 1s 9ms/step - accuracy: 0.9540 - loss: 0.1850 - val_accuracy: 0.9342 - val_loss: 0.2146\n",
        "Epoch 7/8\n",
        "57/57 ━━━━━━━━━━━━━━━━━━━━ 1s 11ms/step - accuracy: 0.9677 - loss: 0.1474 - val_accuracy: 0.9391 - val_loss: 0.1950\n",
        "Epoch 8/8\n",
        "57/57 ━━━━━━━━━━━━━━━━━━━━ 1s 11ms/step - accuracy: 0.9689 - loss: 0.1228 - val_accuracy: 0.9458 - val_loss: 0.1678\n",
        "```\n",
        "*   **10th Run**\n",
        "\n",
        "We will use the following combination for the tenth run:\n",
        "```\n",
        "Learning rate: 0.0001\n",
        "embedding_dim: 64\n",
        "hidden_dim: 256\n",
        "\n",
        "Epoch 1/8\n",
        "57/57 ━━━━━━━━━━━━━━━━━━━━ 3s 21ms/step - accuracy: 0.8685 - loss: 0.5746 - val_accuracy: 0.8733 - val_loss: 0.3230\n",
        "Epoch 2/8\n",
        "57/57 ━━━━━━━━━━━━━━━━━━━━ 1s 14ms/step - accuracy: 0.8727 - loss: 0.2924 - val_accuracy: 0.8714 - val_loss: 0.3033\n",
        "Epoch 3/8\n",
        "57/57 ━━━━━━━━━━━━━━━━━━━━ 1s 16ms/step - accuracy: 0.8990 - loss: 0.2435 - val_accuracy: 0.9004 - val_loss: 0.2653\n",
        "Epoch 4/8\n",
        "57/57 ━━━━━━━━━━━━━━━━━━━━ 1s 14ms/step - accuracy: 0.9284 - loss: 0.2294 - val_accuracy: 0.9139 - val_loss: 0.2578\n",
        "Epoch 5/8\n",
        "57/57 ━━━━━━━━━━━━━━━━━━━━ 1s 13ms/step - accuracy: 0.9525 - loss: 0.1901 - val_accuracy: 0.9381 - val_loss: 0.2121\n",
        "Epoch 6/8\n",
        "57/57 ━━━━━━━━━━━━━━━━━━━━ 1s 14ms/step - accuracy: 0.9598 - loss: 0.1469 - val_accuracy: 0.9565 - val_loss: 0.1609\n",
        "Epoch 7/8\n",
        "57/57 ━━━━━━━━━━━━━━━━━━━━ 1s 14ms/step - accuracy: 0.9771 - loss: 0.0928 - val_accuracy: 0.9613 - val_loss: 0.1361\n",
        "Epoch 8/8\n",
        "57/57 ━━━━━━━━━━━━━━━━━━━━ 1s 14ms/step - accuracy: 0.9860 - loss: 0.0541 - val_accuracy: 0.9681 - val_loss: 0.1099\n",
        "```\n",
        "*   **11th Run**\n",
        "\n",
        "We will use the following combination for the eleventh run:\n",
        "```\n",
        "Learning rate: 0.0001\n",
        "embedding_dim: 128\n",
        "hidden_dim: 128\n",
        "\n",
        "Epoch 1/8\n",
        "57/57 ━━━━━━━━━━━━━━━━━━━━ 4s 17ms/step - accuracy: 0.8276 - loss: 0.6076 - val_accuracy: 0.8733 - val_loss: 0.3222\n",
        "Epoch 2/8\n",
        "57/57 ━━━━━━━━━━━━━━━━━━━━ 1s 11ms/step - accuracy: 0.8725 - loss: 0.2940 - val_accuracy: 0.8752 - val_loss: 0.2783\n",
        "Epoch 3/8\n",
        "57/57 ━━━━━━━━━━━━━━━━━━━━ 1s 11ms/step - accuracy: 0.8852 - loss: 0.2556 - val_accuracy: 0.8975 - val_loss: 0.2646\n",
        "Epoch 4/8\n",
        "57/57 ━━━━━━━━━━━━━━━━━━━━ 1s 10ms/step - accuracy: 0.9304 - loss: 0.2164 - val_accuracy: 0.9110 - val_loss: 0.2510\n",
        "Epoch 5/8\n",
        "57/57 ━━━━━━━━━━━━━━━━━━━━ 1s 12ms/step - accuracy: 0.9465 - loss: 0.1949 - val_accuracy: 0.9130 - val_loss: 0.2385\n",
        "Epoch 6/8\n",
        "57/57 ━━━━━━━━━━━━━━━━━━━━ 1s 11ms/step - accuracy: 0.9614 - loss: 0.1615 - val_accuracy: 0.9526 - val_loss: 0.1676\n",
        "Epoch 7/8\n",
        "57/57 ━━━━━━━━━━━━━━━━━━━━ 1s 10ms/step - accuracy: 0.9779 - loss: 0.1124 - val_accuracy: 0.9623 - val_loss: 0.1364\n",
        "Epoch 8/8\n",
        "57/57 ━━━━━━━━━━━━━━━━━━━━ 1s 10ms/step - accuracy: 0.9837 - loss: 0.0780 - val_accuracy: 0.9691 - val_loss: 0.1069\n",
        "```\n",
        "*   **12th Run**\n",
        "\n",
        "We will use the following combination for the twelfth run:\n",
        "```\n",
        "Learning rate: 0.0001\n",
        "embedding_dim: 128\n",
        "hidden_dim: 256\n",
        "\n",
        "Epoch 1/8\n",
        "57/57 ━━━━━━━━━━━━━━━━━━━━ 3s 21ms/step - accuracy: 0.8245 - loss: 0.5605 - val_accuracy: 0.8733 - val_loss: 0.3046\n",
        "Epoch 2/8\n",
        "57/57 ━━━━━━━━━━━━━━━━━━━━ 1s 14ms/step - accuracy: 0.8739 - loss: 0.2719 - val_accuracy: 0.8917 - val_loss: 0.2715\n",
        "Epoch 3/8\n",
        "57/57 ━━━━━━━━━━━━━━━━━━━━ 1s 14ms/step - accuracy: 0.9210 - loss: 0.2421 - val_accuracy: 0.9101 - val_loss: 0.2666\n",
        "Epoch 4/8\n",
        "57/57 ━━━━━━━━━━━━━━━━━━━━ 1s 14ms/step - accuracy: 0.9428 - loss: 0.1977 - val_accuracy: 0.9342 - val_loss: 0.2203\n",
        "Epoch 5/8\n",
        "57/57 ━━━━━━━━━━━━━━━━━━━━ 1s 17ms/step - accuracy: 0.9624 - loss: 0.1586 - val_accuracy: 0.9497 - val_loss: 0.1685\n",
        "Epoch 6/8\n",
        "57/57 ━━━━━━━━━━━━━━━━━━━━ 1s 15ms/step - accuracy: 0.9791 - loss: 0.0946 - val_accuracy: 0.9623 - val_loss: 0.1242\n",
        "Epoch 7/8\n",
        "57/57 ━━━━━━━━━━━━━━━━━━━━ 1s 14ms/step - accuracy: 0.9831 - loss: 0.0661 - val_accuracy: 0.9642 - val_loss: 0.1286\n",
        "Epoch 8/8\n",
        "57/57 ━━━━━━━━━━━━━━━━━━━━ 1s 15ms/step - accuracy: 0.9875 - loss: 0.0440 - val_accuracy: 0.9691 - val_loss: 0.1075\n",
        "```\n",
        "\n",
        "After multiple training runs using different combinations of learning rate, embedding dimension, and hidden state size, we evaluated the model performance based on validation accuracy, validation loss, and consistency across epochs.\n",
        "The most optimal combination is **Run 7**:\n",
        "```\n",
        "Learning Rate = 0.001\n",
        "Embedding Dimension = 128\n",
        "Hidden Dimension = 128\n",
        "```\n",
        "achieving a Validation Accuracy of 0.9797 and a Validation Loss of 0.0819.\n",
        "This combination offers the best trade-off, delivering the highest validation accuracy across all runs while maintaining stability and avoiding overfitting.\n",
        "Additionally, the model architecture is relatively lightweight compared to larger hidden sizes, making it efficient without compromising performance."
      ],
      "metadata": {
        "id": "_obpjSgIw4sn"
      }
    },
    {
      "cell_type": "markdown",
      "source": [
        "### 6.2.4. Display Classification Report or Plot Confusion Matrix"
      ],
      "metadata": {
        "id": "_MFZzzuxCjeI"
      }
    },
    {
      "cell_type": "code",
      "source": [
        "# Make predictions once\n",
        "preds = (lstm_trainer.model.predict(x_val_pad) > 0.5).astype(\"int32\").flatten()\n",
        "\n",
        "# Evaluate\n",
        "accuracy, precision, conf_matrix, report = Metrics.evaluate(y_val_array, preds)\n",
        "print(report)\n",
        "Metrics.plot_confusion_matrix(conf_matrix)"
      ],
      "metadata": {
        "id": "H_vNj3RvCwiC",
        "colab": {
          "base_uri": "https://localhost:8080/",
          "height": 738
        },
        "outputId": "dc9a21ca-7288-4354-ba38-a4a248e45964"
      },
      "execution_count": null,
      "outputs": [
        {
          "output_type": "stream",
          "name": "stdout",
          "text": [
            "\u001b[1m33/33\u001b[0m \u001b[32m━━━━━━━━━━━━━━━━━━━━\u001b[0m\u001b[37m\u001b[0m \u001b[1m0s\u001b[0m 7ms/step\n",
            "              precision    recall  f1-score   support\n",
            "\n",
            "         Ham       0.98      0.99      0.99       903\n",
            "        Spam       0.95      0.84      0.89       131\n",
            "\n",
            "    accuracy                           0.97      1034\n",
            "   macro avg       0.96      0.92      0.94      1034\n",
            "weighted avg       0.97      0.97      0.97      1034\n",
            "\n"
          ]
        },
        {
          "output_type": "display_data",
          "data": {
            "text/plain": [
              "<Figure size 800x600 with 2 Axes>"
            ],
            "image/png": "[encoded data removed]"
          },
          "metadata": {}
        }
      ]
    },
    {
      "cell_type": "markdown",
      "source": [
        "### 6.2.5. Checking against Validation data"
      ],
      "metadata": {
        "id": "ghyCvyxMCw5i"
      }
    },
    {
      "cell_type": "code",
      "source": [
        "# Show 10 random predictions\n",
        "samples = random.sample(list(zip(x_val.tolist(), y_val.tolist(), preds)), 10)\n",
        "\n",
        "print(\"### LSTM Predictions vs Ground Truth (Validation Set) ###\\n\")\n",
        "for i, (msg, true_label, pred_label) in enumerate(samples):\n",
        "    gt = \"Spam\" if true_label == 1 else \"Ham\"\n",
        "    pred = \"Spam\" if pred_label == 1 else \"Ham\"\n",
        "    print(f\"[{i+1}] Message: \\\"{msg[:60]}...\\\"\")\n",
        "    print(f\"     Ground Truth: {gt} | Predicted: {pred}\\n\")"
      ],
      "metadata": {
        "id": "R9MQ_17eC2Br",
        "colab": {
          "base_uri": "https://localhost:8080/"
        },
        "outputId": "fa878f35-fb31-4f75-b28a-4603ea337384"
      },
      "execution_count": null,
      "outputs": [
        {
          "output_type": "stream",
          "name": "stdout",
          "text": [
            "### LSTM Predictions vs Ground Truth (Validation Set) ###\n",
            "\n",
            "[1] Message: \"privat 2003 account statement 07973788240 show 800 unredeem ...\"\n",
            "     Ground Truth: Spam | Predicted: Spam\n",
            "\n",
            "[2] Message: \"dont think u got think use got good ni8...\"\n",
            "     Ground Truth: Ham | Predicted: Ham\n",
            "\n",
            "[3] Message: \"xma stori peac xma msg love xma miracl jesu hav bless month ...\"\n",
            "     Ground Truth: Ham | Predicted: Ham\n",
            "\n",
            "[4] Message: \"freemsg record indic may entitl 3750 pound accid claim free ...\"\n",
            "     Ground Truth: Spam | Predicted: Spam\n",
            "\n",
            "[5] Message: \"fren go lor alon wif mum n si lor...\"\n",
            "     Ground Truth: Ham | Predicted: Ham\n",
            "\n",
            "[6] Message: \"forward 88877free entri å£250 weekli comp send word enter 88...\"\n",
            "     Ground Truth: Spam | Predicted: Spam\n",
            "\n",
            "[7] Message: \"fishrman woke earli mrng dark wait amp found sack ful stone ...\"\n",
            "     Ground Truth: Ham | Predicted: Ham\n",
            "\n",
            "[8] Message: \"winner u special select 2 receiv å£1000 cash 4 holiday fligh...\"\n",
            "     Ground Truth: Spam | Predicted: Spam\n",
            "\n",
            "[9] Message: \"kkare colleg...\"\n",
            "     Ground Truth: Ham | Predicted: Ham\n",
            "\n",
            "[10] Message: \"want new nokia 3510i colour phone deliveredtomorrow 300 free...\"\n",
            "     Ground Truth: Spam | Predicted: Spam\n",
            "\n"
          ]
        }
      ]
    },
    {
      "cell_type": "markdown",
      "source": [
        "### 6.2.6. Plotting of Training Curves"
      ],
      "metadata": {
        "id": "yXaxSDK_C2NS"
      }
    },
    {
      "cell_type": "code",
      "source": [
        "lstm_trainer.plot_training_curves()"
      ],
      "metadata": {
        "colab": {
          "base_uri": "https://localhost:8080/",
          "height": 476
        },
        "id": "BrV95ons-Unl",
        "outputId": "b86ca4eb-fc49-4ad9-dc9c-94bcca56943c"
      },
      "execution_count": null,
      "outputs": [
        {
          "output_type": "display_data",
          "data": {
            "text/plain": [
              "<Figure size 1200x500 with 2 Axes>"
            ],
            "image/png": "[encoded data removed]"
          },
          "metadata": {}
        }
      ]
    },
    {
      "cell_type": "markdown",
      "source": [
        "The slight gap between training and validation metrics in Run 7 is expected, as the model achieves near-perfect accuracy on training data while maintaining strong generalization performance on unseen data due to regularization and early stopping."
      ],
      "metadata": {
        "id": "iNAtrEEk8hai"
      }
    },
    {
      "cell_type": "markdown",
      "source": [
        "## 6.3. PyTorch LSTM Model\n",
        "\n",
        "This section presents the implementation and evaluation of an LSTM model using PyTorch. While functionally similar to the Keras-based LSTM, this version was not selected as the final model due to poorer learning performance and increased implementation complexity."
      ],
      "metadata": {
        "id": "o-FcseQuCvBT"
      }
    },
    {
      "cell_type": "markdown",
      "source": [
        "### 6.3.1. PyTorch LSTM Classifier"
      ],
      "metadata": {
        "id": "6aZm9uotQX4k"
      }
    },
    {
      "cell_type": "code",
      "source": [
        "class LSTMClassifier(nn.Module):\n",
        "    def __init__(self, vocab_size, embedding_dim=128, hidden_dim=128, num_layers=1):\n",
        "        super(LSTMClassifier, self).__init__()\n",
        "        self.embedding = nn.Embedding(vocab_size, embedding_dim, padding_idx=0)\n",
        "        self.lstm = nn.LSTM(embedding_dim, hidden_dim, num_layers=num_layers, batch_first=True)\n",
        "        self.fc = nn.Linear(hidden_dim, 1)\n",
        "        self.sigmoid = nn.Sigmoid()\n",
        "\n",
        "    def forward(self, x):\n",
        "        embedded = self.embedding(x)\n",
        "        output, (hn, _) = self.lstm(embedded)\n",
        "        out = self.fc(hn[-1])\n",
        "        return self.sigmoid(out)"
      ],
      "metadata": {
        "id": "q0dyL6yOQXWQ"
      },
      "execution_count": null,
      "outputs": []
    },
    {
      "cell_type": "markdown",
      "source": [
        "### 6.3.2. Display of Model Architecture"
      ],
      "metadata": {
        "id": "skucshjpIkBV"
      }
    },
    {
      "cell_type": "code",
      "source": [
        "# Define vocab_size correctly\n",
        "vocab_size_pt = len(word2idx)\n",
        "\n",
        "# Initialize model for graph display\n",
        "pytorch_lstm = LSTMClassifier(vocab_size=vocab_size_pt)\n",
        "example_input = torch.randint(0, vocab_size_pt, (1, x_train_padded_pt.shape[1]))\n",
        "\n",
        "# Visualize using torchview\n",
        "model_graph = draw_graph(pytorch_lstm, input_data=example_input.to(device), expand_nested=True)\n",
        "model_graph.visual_graph"
      ],
      "metadata": {
        "id": "6Q30D1v4Iu0W",
        "colab": {
          "base_uri": "https://localhost:8080/",
          "height": 686
        },
        "outputId": "40f7afa2-35e1-479b-9603-9bd9d90df008"
      },
      "execution_count": null,
      "outputs": [
        {
          "output_type": "execute_result",
          "data": {
            "image/svg+xml": "<?xml version=\"1.0\" encoding=\"UTF-8\" standalone=\"no\"?>\n<!DOCTYPE svg PUBLIC \"-//W3C//DTD SVG 1.1//EN\"\n \"http://www.w3.org/Graphics/SVG/1.1/DTD/svg11.dtd\">\n<!-- Generated by graphviz version 2.43.0 (0)\n -->\n<!-- Title: model Pages: 1 -->\n<svg width=\"311pt\" height=\"498pt\"\n viewBox=\"0.00 0.00 311.00 498.00\" xmlns=\"http://www.w3.org/2000/svg\" xmlns:xlink=\"http://www.w3.org/1999/xlink\">\n<g id=\"graph0\" class=\"graph\" transform=\"scale(1 1) rotate(0) translate(4 494)\">\n<title>model</title>\n<polygon fill=\"white\" stroke=\"transparent\" points=\"-4,4 -4,-494 307,-494 307,4 -4,4\"/>\n<!-- 0 -->\n<g id=\"node1\" class=\"node\">\n<title>0</title>\n<polygon fill=\"lightyellow\" stroke=\"transparent\" points=\"219.5,-490 83.5,-490 83.5,-458 219.5,-458 219.5,-490\"/>\n<polygon fill=\"none\" stroke=\"black\" points=\"83.5,-458 83.5,-490 166.5,-490 166.5,-458 83.5,-458\"/>\n<text text-anchor=\"start\" x=\"88.5\" y=\"-477\" font-family=\"Linux libertine\" font-size=\"10.00\">input&#45;tensor</text>\n<text text-anchor=\"start\" x=\"103.5\" y=\"-466\" font-family=\"Linux libertine\" font-size=\"10.00\">depth:0</text>\n<polygon fill=\"none\" stroke=\"black\" points=\"166.5,-458 166.5,-490 219.5,-490 219.5,-458 166.5,-458\"/>\n<text text-anchor=\"start\" x=\"171.5\" y=\"-471.5\" font-family=\"Linux libertine\" font-size=\"10.00\">(1, 71)</text>\n</g>\n<!-- 1 -->\n<g id=\"node2\" class=\"node\">\n<title>1</title>\n<polygon fill=\"#c1ffc1\" stroke=\"transparent\" points=\"258,-422 45,-422 45,-380 258,-380 258,-422\"/>\n<polygon fill=\"none\" stroke=\"black\" points=\"45.5,-380 45.5,-422 110.5,-422 110.5,-380 45.5,-380\"/>\n<text text-anchor=\"start\" x=\"50.5\" y=\"-404\" font-family=\"Linux libertine\" font-size=\"10.00\">Embedding</text>\n<text text-anchor=\"start\" x=\"56.5\" y=\"-393\" font-family=\"Linux libertine\" font-size=\"10.00\">depth:1</text>\n<polygon fill=\"none\" stroke=\"black\" points=\"110.5,-401 110.5,-422 169.5,-422 169.5,-401 110.5,-401\"/>\n<text text-anchor=\"start\" x=\"121.5\" y=\"-409\" font-family=\"Linux libertine\" font-size=\"10.00\">input:</text>\n<polygon fill=\"none\" stroke=\"black\" points=\"169.5,-401 169.5,-422 258.5,-422 258.5,-401 169.5,-401\"/>\n<text text-anchor=\"start\" x=\"189.5\" y=\"-409\" font-family=\"Linux libertine\" font-size=\"10.00\">(1, 71) </text>\n<polygon fill=\"none\" stroke=\"black\" points=\"110.5,-380 110.5,-401 169.5,-401 169.5,-380 110.5,-380\"/>\n<text text-anchor=\"start\" x=\"115.5\" y=\"-388\" font-family=\"Linux libertine\" font-size=\"10.00\">output: </text>\n<polygon fill=\"none\" stroke=\"black\" points=\"169.5,-380 169.5,-401 258.5,-401 258.5,-380 169.5,-380\"/>\n<text text-anchor=\"start\" x=\"174.5\" y=\"-388\" font-family=\"Linux libertine\" font-size=\"10.00\">(1, 71, 128) </text>\n</g>\n<!-- 0&#45;&gt;1 -->\n<g id=\"edge1\" class=\"edge\">\n<title>0&#45;&gt;1</title>\n<path fill=\"none\" stroke=\"black\" d=\"M151.5,-457.94C151.5,-450.45 151.5,-441.12 151.5,-432.24\"/>\n<polygon fill=\"black\" stroke=\"black\" points=\"155,-432.16 151.5,-422.16 148,-432.16 155,-432.16\"/>\n</g>\n<!-- 2 -->\n<g id=\"node3\" class=\"node\">\n<title>2</title>\n<polygon fill=\"#c1ffc1\" stroke=\"transparent\" points=\"303,-344 0,-344 0,-302 303,-302 303,-344\"/>\n<polygon fill=\"none\" stroke=\"black\" points=\"0.5,-302 0.5,-344 53.5,-344 53.5,-302 0.5,-302\"/>\n<text text-anchor=\"start\" x=\"14.5\" y=\"-326\" font-family=\"Linux libertine\" font-size=\"10.00\">LSTM</text>\n<text text-anchor=\"start\" x=\"5.5\" y=\"-315\" font-family=\"Linux libertine\" font-size=\"10.00\">depth:1</text>\n<polygon fill=\"none\" stroke=\"black\" points=\"53.5,-323 53.5,-344 112.5,-344 112.5,-323 53.5,-323\"/>\n<text text-anchor=\"start\" x=\"64.5\" y=\"-331\" font-family=\"Linux libertine\" font-size=\"10.00\">input:</text>\n<polygon fill=\"none\" stroke=\"black\" points=\"112.5,-323 112.5,-344 303.5,-344 303.5,-323 112.5,-323\"/>\n<text text-anchor=\"start\" x=\"168.5\" y=\"-331\" font-family=\"Linux libertine\" font-size=\"10.00\">(1, 71, 128) </text>\n<polygon fill=\"none\" stroke=\"black\" points=\"53.5,-302 53.5,-323 112.5,-323 112.5,-302 53.5,-302\"/>\n<text text-anchor=\"start\" x=\"58.5\" y=\"-310\" font-family=\"Linux libertine\" font-size=\"10.00\">output: </text>\n<polygon fill=\"none\" stroke=\"black\" points=\"112.5,-302 112.5,-323 303.5,-323 303.5,-302 112.5,-302\"/>\n<text text-anchor=\"start\" x=\"117.5\" y=\"-310\" font-family=\"Linux libertine\" font-size=\"10.00\">(1, 71, 128), 2 x (1, 1, 128) </text>\n</g>\n<!-- 1&#45;&gt;2 -->\n<g id=\"edge2\" class=\"edge\">\n<title>1&#45;&gt;2</title>\n<path fill=\"none\" stroke=\"black\" d=\"M151.5,-379.63C151.5,-371.82 151.5,-362.73 151.5,-354.18\"/>\n<polygon fill=\"black\" stroke=\"black\" points=\"155,-354.16 151.5,-344.16 148,-354.16 155,-354.16\"/>\n</g>\n<!-- 3 -->\n<g id=\"node4\" class=\"node\">\n<title>3</title>\n<polygon fill=\"aliceblue\" stroke=\"transparent\" points=\"261,-266 42,-266 42,-224 261,-224 261,-266\"/>\n<polygon fill=\"none\" stroke=\"black\" points=\"42.5,-224 42.5,-266 119.5,-266 119.5,-224 42.5,-224\"/>\n<text text-anchor=\"start\" x=\"47.5\" y=\"-248\" font-family=\"Linux libertine\" font-size=\"10.00\">__getitem__</text>\n<text text-anchor=\"start\" x=\"59.5\" y=\"-237\" font-family=\"Linux libertine\" font-size=\"10.00\">depth:1</text>\n<polygon fill=\"none\" stroke=\"black\" points=\"119.5,-245 119.5,-266 178.5,-266 178.5,-245 119.5,-245\"/>\n<text text-anchor=\"start\" x=\"130.5\" y=\"-253\" font-family=\"Linux libertine\" font-size=\"10.00\">input:</text>\n<polygon fill=\"none\" stroke=\"black\" points=\"178.5,-245 178.5,-266 261.5,-266 261.5,-245 178.5,-245\"/>\n<text text-anchor=\"start\" x=\"183.5\" y=\"-253\" font-family=\"Linux libertine\" font-size=\"10.00\">(1, 1, 128) </text>\n<polygon fill=\"none\" stroke=\"black\" points=\"119.5,-224 119.5,-245 178.5,-245 178.5,-224 119.5,-224\"/>\n<text text-anchor=\"start\" x=\"124.5\" y=\"-232\" font-family=\"Linux libertine\" font-size=\"10.00\">output: </text>\n<polygon fill=\"none\" stroke=\"black\" points=\"178.5,-224 178.5,-245 261.5,-245 261.5,-224 178.5,-224\"/>\n<text text-anchor=\"start\" x=\"192.5\" y=\"-232\" font-family=\"Linux libertine\" font-size=\"10.00\">(1, 128) </text>\n</g>\n<!-- 2&#45;&gt;3 -->\n<g id=\"edge3\" class=\"edge\">\n<title>2&#45;&gt;3</title>\n<path fill=\"none\" stroke=\"black\" d=\"M151.5,-301.63C151.5,-293.82 151.5,-284.73 151.5,-276.18\"/>\n<polygon fill=\"black\" stroke=\"black\" points=\"155,-276.16 151.5,-266.16 148,-276.16 155,-276.16\"/>\n</g>\n<!-- 4 -->\n<g id=\"node5\" class=\"node\">\n<title>4</title>\n<polygon fill=\"#c1ffc1\" stroke=\"transparent\" points=\"240,-188 63,-188 63,-146 240,-146 240,-188\"/>\n<polygon fill=\"none\" stroke=\"black\" points=\"63.5,-146 63.5,-188 116.5,-188 116.5,-146 63.5,-146\"/>\n<text text-anchor=\"start\" x=\"71.5\" y=\"-170\" font-family=\"Linux libertine\" font-size=\"10.00\">Linear</text>\n<text text-anchor=\"start\" x=\"68.5\" y=\"-159\" font-family=\"Linux libertine\" font-size=\"10.00\">depth:1</text>\n<polygon fill=\"none\" stroke=\"black\" points=\"116.5,-167 116.5,-188 175.5,-188 175.5,-167 116.5,-167\"/>\n<text text-anchor=\"start\" x=\"127.5\" y=\"-175\" font-family=\"Linux libertine\" font-size=\"10.00\">input:</text>\n<polygon fill=\"none\" stroke=\"black\" points=\"175.5,-167 175.5,-188 240.5,-188 240.5,-167 175.5,-167\"/>\n<text text-anchor=\"start\" x=\"180.5\" y=\"-175\" font-family=\"Linux libertine\" font-size=\"10.00\">(1, 128) </text>\n<polygon fill=\"none\" stroke=\"black\" points=\"116.5,-146 116.5,-167 175.5,-167 175.5,-146 116.5,-146\"/>\n<text text-anchor=\"start\" x=\"121.5\" y=\"-154\" font-family=\"Linux libertine\" font-size=\"10.00\">output: </text>\n<polygon fill=\"none\" stroke=\"black\" points=\"175.5,-146 175.5,-167 240.5,-167 240.5,-146 175.5,-146\"/>\n<text text-anchor=\"start\" x=\"186.5\" y=\"-154\" font-family=\"Linux libertine\" font-size=\"10.00\">(1, 1) </text>\n</g>\n<!-- 3&#45;&gt;4 -->\n<g id=\"edge4\" class=\"edge\">\n<title>3&#45;&gt;4</title>\n<path fill=\"none\" stroke=\"black\" d=\"M151.5,-223.63C151.5,-215.82 151.5,-206.73 151.5,-198.18\"/>\n<polygon fill=\"black\" stroke=\"black\" points=\"155,-198.16 151.5,-188.16 148,-198.16 155,-198.16\"/>\n</g>\n<!-- 5 -->\n<g id=\"node6\" class=\"node\">\n<title>5</title>\n<polygon fill=\"#c1ffc1\" stroke=\"transparent\" points=\"234,-110 69,-110 69,-68 234,-68 234,-110\"/>\n<polygon fill=\"none\" stroke=\"black\" points=\"69.5,-68 69.5,-110 122.5,-110 122.5,-68 69.5,-68\"/>\n<text text-anchor=\"start\" x=\"74.5\" y=\"-92\" font-family=\"Linux libertine\" font-size=\"10.00\">Sigmoid</text>\n<text text-anchor=\"start\" x=\"74.5\" y=\"-81\" font-family=\"Linux libertine\" font-size=\"10.00\">depth:1</text>\n<polygon fill=\"none\" stroke=\"black\" points=\"122.5,-89 122.5,-110 181.5,-110 181.5,-89 122.5,-89\"/>\n<text text-anchor=\"start\" x=\"133.5\" y=\"-97\" font-family=\"Linux libertine\" font-size=\"10.00\">input:</text>\n<polygon fill=\"none\" stroke=\"black\" points=\"181.5,-89 181.5,-110 234.5,-110 234.5,-89 181.5,-89\"/>\n<text text-anchor=\"start\" x=\"186.5\" y=\"-97\" font-family=\"Linux libertine\" font-size=\"10.00\">(1, 1) </text>\n<polygon fill=\"none\" stroke=\"black\" points=\"122.5,-68 122.5,-89 181.5,-89 181.5,-68 122.5,-68\"/>\n<text text-anchor=\"start\" x=\"127.5\" y=\"-76\" font-family=\"Linux libertine\" font-size=\"10.00\">output: </text>\n<polygon fill=\"none\" stroke=\"black\" points=\"181.5,-68 181.5,-89 234.5,-89 234.5,-68 181.5,-68\"/>\n<text text-anchor=\"start\" x=\"186.5\" y=\"-76\" font-family=\"Linux libertine\" font-size=\"10.00\">(1, 1) </text>\n</g>\n<!-- 4&#45;&gt;5 -->\n<g id=\"edge5\" class=\"edge\">\n<title>4&#45;&gt;5</title>\n<path fill=\"none\" stroke=\"black\" d=\"M151.5,-145.63C151.5,-137.82 151.5,-128.73 151.5,-120.18\"/>\n<polygon fill=\"black\" stroke=\"black\" points=\"155,-120.16 151.5,-110.16 148,-120.16 155,-120.16\"/>\n</g>\n<!-- 6 -->\n<g id=\"node7\" class=\"node\">\n<title>6</title>\n<polygon fill=\"lightyellow\" stroke=\"transparent\" points=\"219.5,-32 83.5,-32 83.5,0 219.5,0 219.5,-32\"/>\n<polygon fill=\"none\" stroke=\"black\" points=\"83.5,0 83.5,-32 172.5,-32 172.5,0 83.5,0\"/>\n<text text-anchor=\"start\" x=\"88.5\" y=\"-19\" font-family=\"Linux libertine\" font-size=\"10.00\">output&#45;tensor</text>\n<text text-anchor=\"start\" x=\"106.5\" y=\"-8\" font-family=\"Linux libertine\" font-size=\"10.00\">depth:0</text>\n<polygon fill=\"none\" stroke=\"black\" points=\"172.5,0 172.5,-32 219.5,-32 219.5,0 172.5,0\"/>\n<text text-anchor=\"start\" x=\"177.5\" y=\"-13.5\" font-family=\"Linux libertine\" font-size=\"10.00\">(1, 1)</text>\n</g>\n<!-- 5&#45;&gt;6 -->\n<g id=\"edge6\" class=\"edge\">\n<title>5&#45;&gt;6</title>\n<path fill=\"none\" stroke=\"black\" d=\"M151.5,-67.84C151.5,-59.89 151.5,-50.66 151.5,-42.26\"/>\n<polygon fill=\"black\" stroke=\"black\" points=\"155,-42.24 151.5,-32.24 148,-42.24 155,-42.24\"/>\n</g>\n</g>\n</svg>\n",
            "text/plain": [
              "<graphviz.graphs.Digraph at 0x7c8a17a2dd90>"
            ]
          },
          "metadata": {},
          "execution_count": 33
        }
      ]
    },
    {
      "cell_type": "markdown",
      "source": [
        "### 6.3.3. Tuning of Hyperparameters"
      ],
      "metadata": {
        "id": "M71JgoLAIvme"
      }
    },
    {
      "cell_type": "code",
      "source": [
        "# Set hyperparameters\n",
        "pt_lr = 0.001\n",
        "pt_wd = 0.0001\n",
        "pt_epochs = 10\n",
        "\n",
        "# Instantiate model\n",
        "pt_model = LSTMClassifier(vocab_size=vocab_size_pt)\n",
        "pt_model.to(device)\n",
        "\n",
        "# Define optimizer\n",
        "pt_optimizer = torch.optim.Adam(pt_model.parameters(), lr=pt_lr, weight_decay=pt_wd)\n",
        "\n",
        "# Training using the PyTorch LSTMTrainer class\n",
        "pt_trainer = PyTorchLSTMTrainer(pt_model, device, train_loader, val_loader, pt_epochs, pt_optimizer)\n",
        "pt_trainer.train()"
      ],
      "metadata": {
        "id": "F397k3Q1Ix6x",
        "colab": {
          "base_uri": "https://localhost:8080/"
        },
        "outputId": "f76a9675-85a8-462d-df1d-fc5b57fb15a2"
      },
      "execution_count": null,
      "outputs": [
        {
          "output_type": "stream",
          "name": "stdout",
          "text": [
            "Epoch [1/10], Train Loss: 0.4528, Train Acc: 85.93%, Val Loss: 0.3694, Val Acc: 87.33%\n",
            "Epoch [2/10], Train Loss: 0.3805, Train Acc: 87.37%, Val Loss: 0.3683, Val Acc: 87.33%\n",
            "Epoch [3/10], Train Loss: 0.3804, Train Acc: 87.37%, Val Loss: 0.3681, Val Acc: 87.33%\n",
            "Epoch [4/10], Train Loss: 0.3822, Train Acc: 87.37%, Val Loss: 0.3678, Val Acc: 87.33%\n",
            "Epoch [5/10], Train Loss: 0.3818, Train Acc: 87.37%, Val Loss: 0.3682, Val Acc: 87.33%\n",
            "Epoch [6/10], Train Loss: 0.3814, Train Acc: 87.37%, Val Loss: 0.3705, Val Acc: 87.33%\n",
            "Epoch [7/10], Train Loss: 0.3828, Train Acc: 87.37%, Val Loss: 0.3678, Val Acc: 87.33%\n",
            "Epoch [8/10], Train Loss: 0.3808, Train Acc: 87.37%, Val Loss: 0.3691, Val Acc: 87.33%\n",
            "Epoch [9/10], Train Loss: 0.3810, Train Acc: 87.37%, Val Loss: 0.3701, Val Acc: 87.33%\n",
            "Epoch [10/10], Train Loss: 0.3791, Train Acc: 87.37%, Val Loss: 0.3678, Val Acc: 87.33%\n"
          ]
        }
      ]
    },
    {
      "cell_type": "markdown",
      "source": [
        "### 6.3.4. Display Classification Report and Plot Confusion Matrix"
      ],
      "metadata": {
        "id": "ojJ1qNtALKsO"
      }
    },
    {
      "cell_type": "code",
      "source": [
        "# Predict on validation set\n",
        "pt_model.eval()\n",
        "all_preds, all_labels = [], []\n",
        "\n",
        "with torch.no_grad():\n",
        "    for inputs, labels in val_loader:\n",
        "        inputs = inputs.to(device)\n",
        "        outputs = pt_model(inputs).squeeze().cpu()\n",
        "        predictions = (outputs > 0.5).int().numpy()\n",
        "        all_preds.extend(predictions)\n",
        "        all_labels.extend(labels.numpy())\n",
        "\n",
        "# Evaluate\n",
        "accuracy, precision, conf_matrix, report = Metrics.evaluate(all_labels, all_preds)\n",
        "print(report)\n",
        "Metrics.plot_confusion_matrix(conf_matrix)"
      ],
      "metadata": {
        "id": "Al6vfRD_LEvW",
        "colab": {
          "base_uri": "https://localhost:8080/",
          "height": 720
        },
        "outputId": "49f46f02-26ff-4111-b352-697a5c8c4095"
      },
      "execution_count": null,
      "outputs": [
        {
          "output_type": "stream",
          "name": "stdout",
          "text": [
            "              precision    recall  f1-score   support\n",
            "\n",
            "         Ham       0.87      1.00      0.93       903\n",
            "        Spam       0.00      0.00      0.00       131\n",
            "\n",
            "    accuracy                           0.87      1034\n",
            "   macro avg       0.44      0.50      0.47      1034\n",
            "weighted avg       0.76      0.87      0.81      1034\n",
            "\n"
          ]
        },
        {
          "output_type": "display_data",
          "data": {
            "text/plain": [
              "<Figure size 800x600 with 2 Axes>"
            ],
            "image/png": "[encoded data removed]"
          },
          "metadata": {}
        }
      ]
    },
    {
      "cell_type": "markdown",
      "source": [
        "### 6.3.5. Checking against Validation data"
      ],
      "metadata": {
        "id": "9YNlRR0aLWv_"
      }
    },
    {
      "cell_type": "code",
      "source": [
        "# Sample predictions\n",
        "samples = random.sample(list(zip(x_val.tolist(), all_labels, all_preds)), 10)\n",
        "\n",
        "print(\"### LSTM Predictions vs Ground Truth (Validation Set) ###\\n\")\n",
        "for i, (msg, true_label, pred_label) in enumerate(samples):\n",
        "    gt = \"Spam\" if true_label == 1 else \"Ham\"\n",
        "    pred = \"Spam\" if pred_label == 1 else \"Ham\"\n",
        "    print(f\"[{i+1}] Message: \\\"{msg[:60]}...\\\"\")\n",
        "    print(f\"     Ground Truth: {gt} | Predicted: {pred}\\n\")"
      ],
      "metadata": {
        "colab": {
          "base_uri": "https://localhost:8080/"
        },
        "outputId": "53433e69-4e69-41d8-b6bd-1430fa9215c6",
        "id": "L92qS7viLWwA"
      },
      "execution_count": null,
      "outputs": [
        {
          "output_type": "stream",
          "name": "stdout",
          "text": [
            "### LSTM Predictions vs Ground Truth (Validation Set) ###\n",
            "\n",
            "[1] Message: \"sure sinc parent work tuesday dont realli need cover stori...\"\n",
            "     Ground Truth: Ham | Predicted: Ham\n",
            "\n",
            "[2] Message: \"way school pl send ashley number...\"\n",
            "     Ground Truth: Ham | Predicted: Ham\n",
            "\n",
            "[3] Message: \"dun believ wat...\"\n",
            "     Ground Truth: Ham | Predicted: Ham\n",
            "\n",
            "[4] Message: \"sent price mean ltgt g...\"\n",
            "     Ground Truth: Ham | Predicted: Ham\n",
            "\n",
            "[5] Message: \"hurt n meaning line ever compromis everyth love...\"\n",
            "     Ground Truth: Ham | Predicted: Ham\n",
            "\n",
            "[6] Message: \"fuck babe miss sooooo much wish sleep bed lone go sleep drea...\"\n",
            "     Ground Truth: Ham | Predicted: Ham\n",
            "\n",
            "[7] Message: \"ok ill let noe later n ask call u tmr...\"\n",
            "     Ground Truth: Ham | Predicted: Ham\n",
            "\n",
            "[8] Message: \"wait 4 ì insid da car park...\"\n",
            "     Ground Truth: Ham | Predicted: Ham\n",
            "\n",
            "[9] Message: \"yup msg tat yiju tot group mate co meet today mah im askin ì...\"\n",
            "     Ground Truth: Ham | Predicted: Ham\n",
            "\n",
            "[10] Message: \"loosu go hospit de dont let careless...\"\n",
            "     Ground Truth: Ham | Predicted: Ham\n",
            "\n"
          ]
        }
      ]
    },
    {
      "cell_type": "markdown",
      "source": [
        "### 6.3.6. Why PyTorch LSTM Was Not Used as the Final Model\n",
        "\n",
        "Although a PyTorch-based LSTM was implemented and trained for spam detection, it was **not used in the final model selection** due to several observed limitations:\n",
        "\n",
        "As shown in **Section 6.3.3 (Tuning of Hyperparameters)**:\n",
        "- **Stagnant performance**: Despite training for 10 epochs, both training and validation accuracy plateaued at around **87.3%**, indicating that the model quickly stopped learning and failed to make further improvements.\n",
        "- **Underfitting**: The training loss remained relatively high across epochs, suggesting that the model did not capture the complexity of the input data.\n",
        "\n",
        "In **Section 6.3.4 (Evaluation and Confusion Matrix)**:\n",
        "- **Bias toward majority class**: The model was completely biased toward the majority class (\"Ham\"), predicting all validation samples as \"Ham\" regardless of their true label.\n",
        "\n",
        "The confusion matrix further highlights the issue. This shows that the PyTorch LSTM completely failed to identify any spam messages, making it unsuitable for real-world deployment where false negatives (undetected spam) are critical to avoid.\n"
      ],
      "metadata": {
        "id": "eMls0i_0SFGr"
      }
    },
    {
      "cell_type": "markdown",
      "source": [
        "# **7. Testing and Comparison**\n",
        "\n",
        "This section will compare the performance between **Naive Bayes** and **Keras LSTM** model using test dataset. The **PyTorch LSTM** was excluded from final evaluation due to its poor performance and training stagnation, which made it unsuitable for production-level spam detection."
      ],
      "metadata": {
        "id": "DrtBoSmsV337"
      }
    },
    {
      "cell_type": "markdown",
      "source": [
        "## 7.1. Testing on Naive Bayes"
      ],
      "metadata": {
        "id": "CBPeNI6iWx8R"
      }
    },
    {
      "cell_type": "code",
      "source": [
        "# Predict on test set using Naive Bayes\n",
        "nb_test_preds = nb_model.predict(x_test_tfidf)\n",
        "\n",
        "# Evaluate\n",
        "nb_test_accuracy, nb_test_precision, nb_test_conf_matrix, nb_test_report = Metrics.evaluate(y_test, nb_test_preds)\n",
        "\n",
        "print(\"### Naive Bayes - Test Set Evaluation ###\\n\")\n",
        "print(nb_test_report)\n",
        "Metrics.plot_confusion_matrix(nb_test_conf_matrix)"
      ],
      "metadata": {
        "colab": {
          "base_uri": "https://localhost:8080/",
          "height": 755
        },
        "id": "7oD1RkI7W5Rq",
        "outputId": "b9ab82cc-644f-4bf7-9798-21fe32ca0aea"
      },
      "execution_count": null,
      "outputs": [
        {
          "output_type": "stream",
          "name": "stdout",
          "text": [
            "### Naive Bayes - Test Set Evaluation ###\n",
            "\n",
            "              precision    recall  f1-score   support\n",
            "\n",
            "         Ham       0.97      1.00      0.98       452\n",
            "        Spam       1.00      0.78      0.88        65\n",
            "\n",
            "    accuracy                           0.97       517\n",
            "   macro avg       0.98      0.89      0.93       517\n",
            "weighted avg       0.97      0.97      0.97       517\n",
            "\n"
          ]
        },
        {
          "output_type": "display_data",
          "data": {
            "text/plain": [
              "<Figure size 800x600 with 2 Axes>"
            ],
            "image/png": "[encoded data removed]"
          },
          "metadata": {}
        }
      ]
    },
    {
      "cell_type": "markdown",
      "source": [
        "## 7.2. Testing on Keras LSTM Model"
      ],
      "metadata": {
        "id": "q7q3HecbXKI7"
      }
    },
    {
      "cell_type": "code",
      "source": [
        "# Predict on test set using Keras LSTM\n",
        "lstm_test_preds = (lstm_trainer.model.predict(x_test_pad) > 0.5).astype(\"int32\").flatten()\n",
        "\n",
        "# Evaluate\n",
        "lstm_test_accuracy, lstm_test_precision, lstm_test_conf_matrix, lstm_test_report = Metrics.evaluate(y_test_array, lstm_test_preds)\n",
        "\n",
        "print(\"### Keras LSTM - Test Set Evaluation ###\\n\")\n",
        "print(lstm_test_report)\n",
        "Metrics.plot_confusion_matrix(lstm_test_conf_matrix)\n"
      ],
      "metadata": {
        "colab": {
          "base_uri": "https://localhost:8080/",
          "height": 772
        },
        "id": "sB_AE126XNjr",
        "outputId": "60422b59-b1e0-4e16-8687-86bda24552f0"
      },
      "execution_count": null,
      "outputs": [
        {
          "output_type": "stream",
          "name": "stdout",
          "text": [
            "\u001b[1m17/17\u001b[0m \u001b[32m━━━━━━━━━━━━━━━━━━━━\u001b[0m\u001b[37m\u001b[0m \u001b[1m0s\u001b[0m 6ms/step\n",
            "### Keras LSTM - Test Set Evaluation ###\n",
            "\n",
            "              precision    recall  f1-score   support\n",
            "\n",
            "         Ham       0.99      1.00      0.99       452\n",
            "        Spam       0.97      0.94      0.95        65\n",
            "\n",
            "    accuracy                           0.99       517\n",
            "   macro avg       0.98      0.97      0.97       517\n",
            "weighted avg       0.99      0.99      0.99       517\n",
            "\n"
          ]
        },
        {
          "output_type": "display_data",
          "data": {
            "text/plain": [
              "<Figure size 800x600 with 2 Axes>"
            ],
            "image/png": "[encoded data removed]"
          },
          "metadata": {}
        }
      ]
    },
    {
      "cell_type": "markdown",
      "source": [
        "## 7.3. Comparison Summary\n",
        "\n",
        "- **Naive Bayes** achieved 97% accuracy with perfect precision for spam (1.00) but suffered from lower recall (0.78), meaning it saw a real spam message but predicted it as a ham.\n",
        "- **Keras LSTM** achieved a higher accuracy of 99%, with balanced precision (0.97) and higher recall (0.94) for spam, reducing false negatives.\n",
        "- Naive Bayes misclassified 14 spam messages as ham, whereas Keras LSTM reduced this to only 4 misclassifications (2 ham, 2 spam).\n",
        "- Keras LSTM had a better f1-score for spam (0.95) compared to Naive Bayes (0.88), showing stronger generalization.\n",
        "\n",
        "Overall, Keras LSTM demonstrated superior ability to detect spam without sacrificing precision, outperforming Naive Bayes in key metrics."
      ],
      "metadata": {
        "id": "k_6mbfHEXSZU"
      }
    },
    {
      "cell_type": "markdown",
      "source": [
        "# **8. Conclusion**\n",
        "\n",
        "In this project, we implemented and compared three models for SMS spam detection:\n",
        "\n",
        "- **Naive Bayes**\n",
        "- **Keras-based LSTM**\n",
        "- **PyTorch-based LSTM**\n",
        "\n",
        "Only Naive Bayes and Keras LSTM were selected for final evaluation on the test set.\n",
        "\n",
        "### Performance Overview\n",
        "\n",
        "| Model           | Accuracy | Precision (Spam) | Recall (Spam) | F1-Score (Spam) |\n",
        "|----------------|----------|------------------|----------------|-----------------|\n",
        "| Naive Bayes    | 0.97     | 1.00             | 0.78           | 0.88            |\n",
        "| Keras LSTM     | 0.99     | 0.97             | 0.94           | 0.95            |\n",
        "\n",
        "### Analysis and Insights\n",
        "\n",
        "The models ranked from highest to lowest performance are:\n",
        "\n",
        "---\n",
        "\n",
        "#### 1. **Keras LSTM**\n",
        "\n",
        "The Keras-based LSTM model delivered the **highest accuracy and most balanced performance**. Its ability to learn sequential dependencies in language allowed it to better identify spam messages while maintaining high precision. It achieved **0.99 accuracy** and **0.95 F1-score** for spam — reducing false negatives significantly. Its performance validates the strength of deep learning for text classification when trained properly on preprocessed data.\n",
        "\n",
        "---\n",
        "\n",
        "#### 2. **Naive Bayes**\n",
        "\n",
        "Naive Bayes performed well with **fast training** and high precision (**1.00**) for spam detection. However, its **recall of 0.78** indicates it failed to capture many spam messages. This is likely due to its simplifying assumption of feature independence, which limits its ability to model contextual patterns found in language. While simple and efficient, it is more prone to false negatives compared to deep learning approaches.\n",
        "\n",
        "---\n",
        "\n",
        "#### 3. **PyTorch LSTM**\n",
        "\n",
        "The PyTorch-based LSTM was implemented and trained, but ultimately **not selected for final evaluation** due to its inferior performance. It consistently plateaued at around **87% accuracy**, showed minimal learning beyond the first epoch, and exhibited signs of underfitting. Furthermore, training and debugging were more complex compared to the high-level Keras API, which made development less efficient.\n",
        "\n",
        "---\n",
        "\n",
        "### Final Model Selection\n",
        "\n",
        "The **Keras LSTM** was chosen as the final model for its:\n",
        "- Superior accuracy and F1-score\n",
        "- Better recall without sacrificing precision\n",
        "- Effective handling of sequence and language patterns\n",
        "\n",
        "Its balance between accuracy, robustness, and adaptability makes it the most suitable choice for real-world SMS spam detection deployment."
      ],
      "metadata": {
        "id": "rZzdkalgXsEO"
      }
    }
  ]
}